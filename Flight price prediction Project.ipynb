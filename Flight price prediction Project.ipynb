{
 "cells": [
  {
   "cell_type": "markdown",
   "id": "7e6d4632",
   "metadata": {},
   "source": [
    "# Flight Price Prediction Project"
   ]
  },
  {
   "cell_type": "markdown",
   "id": "6a909398",
   "metadata": {},
   "source": [
    "# Description:\n",
    "Anyone who has booked a flight ticket knows how unexpectedly the prices vary. The cheapest \n",
    "available ticket on a given flight gets more and less expensive over time. This usually happens as \n",
    "an attempt to maximize revenue based on -\n",
    "1. Time of purchase patterns (making sure last-minute purchases are expensive)\n",
    "2. Keeping the flight as full as they want it (raising prices on a flight which is filling up in order \n",
    "to reduce sales and hold back inventory for those expensive last-minute expensive \n",
    "purchases)\n",
    "So, you have to work on a project where you collect data of flight fares with other features and \n",
    "work to make a model to predict fares of flights"
   ]
  },
  {
   "cell_type": "markdown",
   "id": "294bee76",
   "metadata": {},
   "source": [
    "# Importing Required Libraries:"
   ]
  },
  {
   "cell_type": "code",
   "execution_count": 27,
   "id": "c0e47a08",
   "metadata": {},
   "outputs": [],
   "source": [
    "#importing all the necessory libraries\n",
    "import selenium\n",
    "import pandas as pd\n",
    "import time\n",
    "from bs4 import BeautifulSoup\n",
    "from selenium import webdriver  \n",
    "from selenium.common.exceptions import StaleElementReferenceException, NoSuchElementException\n",
    "import re\n",
    "import requests\n",
    "\n",
    "import warnings\n",
    "warnings.filterwarnings(\"ignore\")"
   ]
  },
  {
   "cell_type": "code",
   "execution_count": 28,
   "id": "c34f6a6a",
   "metadata": {},
   "outputs": [],
   "source": [
    "#importing all the libraries\n",
    "from selenium.webdriver.support.ui import WebDriverWait\n",
    "from selenium.webdriver.support import expected_conditions as Ec\n",
    "from selenium.webdriver.common.by import By\n",
    "from selenium.common.exceptions import TimeoutException"
   ]
  },
  {
   "cell_type": "code",
   "execution_count": 29,
   "id": "ff701ab9",
   "metadata": {},
   "outputs": [],
   "source": [
    "#getting the url using driver:\n",
    "Path = r\"C:\\Users\\saima\\Desktop\\chromedriver.exe\"\n",
    "driver=webdriver.Chrome(Path)\n",
    "url='https://www.easemytrip.com/'\n",
    "driver.get(url)"
   ]
  },
  {
   "cell_type": "code",
   "execution_count": 5,
   "id": "d49bcb42",
   "metadata": {},
   "outputs": [],
   "source": [
    "depart_from=driver.find_element_by_xpath('/html/body/form/div[5]/div/div[3]/div[1]/div[1]/input[2]')\n",
    "depart_from.send_keys('Delhi')"
   ]
  },
  {
   "cell_type": "code",
   "execution_count": 6,
   "id": "007aac9f",
   "metadata": {},
   "outputs": [],
   "source": [
    "to_city=driver.find_element_by_xpath('/html/body/form/div[5]/div/div[3]/div[1]/div[2]/input[2]')\n",
    "to_city.send_keys('Mumbai')"
   ]
  },
  {
   "cell_type": "code",
   "execution_count": 30,
   "id": "3a0a4c7d",
   "metadata": {},
   "outputs": [],
   "source": [
    "date=driver.find_element_by_xpath('/html/body/form/div[5]/div/div[3]/div[1]/div[3]/div[1]/input')\n",
    "date.click()"
   ]
  },
  {
   "cell_type": "code",
   "execution_count": 31,
   "id": "6e8c10d0",
   "metadata": {},
   "outputs": [],
   "source": [
    "dt=driver.find_element_by_xpath('/html/body/form/div[5]/div/div[3]/div[1]/div[3]/div[2]/div/div[2]/div/div[5]/ul/li[1]')\n",
    "dt.click()"
   ]
  },
  {
   "cell_type": "code",
   "execution_count": 22,
   "id": "397fda31",
   "metadata": {},
   "outputs": [],
   "source": [
    "search=driver.find_element_by_xpath('//div[@class=\"s_col_v4 ripplen\"]')\n",
    "search.click()"
   ]
  },
  {
   "cell_type": "code",
   "execution_count": 32,
   "id": "98d85cc9",
   "metadata": {},
   "outputs": [],
   "source": [
    "#extracting the data from the pages and framing them in form of a list\n",
    "name1=[]\n",
    "source_date1=[]\n",
    "return_date1=[]\n",
    "source_dest1=[]\n",
    "stops1=[]\n",
    "depart_time1=[]\n",
    "arrival_time1=[]\n",
    "duration1=[]\n",
    "price1=[]\n",
    "\n",
    "try:\n",
    "    name=driver.find_elements_by_xpath('//div[@class=\"col-md-7 col-sm-7 padd-lft airl-txt-n\"]')\n",
    "    for i in name:\n",
    "        name1.append(i.text)\n",
    "except NoSuchElementException:\n",
    "    name1.append('-') \n",
    "time.sleep(1)\n",
    "try:\n",
    "    source_dest=driver.find_elements_by_xpath('//span[@class=\"txt-r3-n ng-binding\"]')\n",
    "    for i in source_dest:\n",
    "        source_dest1.append(i.text)\n",
    "except NoSuchElementException:\n",
    "    source_dest1.append('-') \n",
    "time.sleep(1)\n",
    "try:\n",
    "    stops=driver.find_elements_by_xpath('//span[@class=\"dura_md2 ng-scope\"]')\n",
    "    for i in stops:\n",
    "        stops1.append(i.text)\n",
    "except NoSuchElementException:\n",
    "    stops1.append('-') \n",
    "time.sleep(1)\n",
    "try:\n",
    "    depart_time=driver.find_elements_by_xpath('//span[@class=\"txt-r2-n ng-binding\"]')\n",
    "    for i in depart_time:\n",
    "        depart_time1.append(i.text)\n",
    "except NoSuchElementException:\n",
    "    depart_time1.append('-') \n",
    "time.sleep(1)\n",
    "try:\n",
    "    duration=driver.find_elements_by_xpath('//span[@class=\"dura_md ng-binding\"]')\n",
    "    for i in duration:\n",
    "        duration1.append(i.text)\n",
    "except NoSuchElementException:\n",
    "    duration1.append('-') \n",
    "time.sleep(1)\n",
    "try:\n",
    "    price=driver.find_elements_by_xpath('//div[@class=\"col-md-8 col-sm-8 col-xs-9 txt-r6-n exPrc ng-binding\"]')\n",
    "    for i in price:\n",
    "        price1.append(i.text)\n",
    "except NoSuchElementException:\n",
    "    price1append('-') \n",
    "time.sleep(1)\n"
   ]
  },
  {
   "cell_type": "code",
   "execution_count": 34,
   "id": "7f236926",
   "metadata": {},
   "outputs": [],
   "source": [
    "next_date=driver.find_element_by_xpath('/html/body/form/div[9]/div[2]/div[2]/a[2]')\n",
    "next_date.click()"
   ]
  },
  {
   "cell_type": "code",
   "execution_count": 35,
   "id": "f428e61d",
   "metadata": {},
   "outputs": [],
   "source": [
    "#extracting the data from the pages and framing them in form of a list\n",
    "\n",
    "try:\n",
    "    name=driver.find_elements_by_xpath('//div[@class=\"col-md-7 col-sm-7 padd-lft airl-txt-n\"]')\n",
    "    for i in name:\n",
    "        name1.append(i.text)\n",
    "except NoSuchElementException:\n",
    "    name1.append('-') \n",
    "time.sleep(1)\n",
    "try:\n",
    "    source_dest=driver.find_elements_by_xpath('//span[@class=\"txt-r3-n ng-binding\"]')\n",
    "    for i in source_dest:\n",
    "        source_dest1.append(i.text)\n",
    "except NoSuchElementException:\n",
    "    source_dest1.append('-') \n",
    "time.sleep(1)\n",
    "try:\n",
    "    stops=driver.find_elements_by_xpath('//span[@class=\"dura_md2 ng-scope\"]')\n",
    "    for i in stops:\n",
    "        stops1.append(i.text)\n",
    "except NoSuchElementException:\n",
    "    stops1.append('-') \n",
    "time.sleep(1)\n",
    "try:\n",
    "    depart_time=driver.find_elements_by_xpath('//span[@class=\"txt-r2-n ng-binding\"]')\n",
    "    for i in depart_time:\n",
    "        depart_time1.append(i.text)\n",
    "except NoSuchElementException:\n",
    "    depart_time1.append('-') \n",
    "time.sleep(1)\n",
    "try:\n",
    "    duration=driver.find_elements_by_xpath('//span[@class=\"dura_md ng-binding\"]')\n",
    "    for i in duration:\n",
    "        duration1.append(i.text)\n",
    "except NoSuchElementException:\n",
    "    duration1.append('-') \n",
    "time.sleep(1)\n",
    "try:\n",
    "    price=driver.find_elements_by_xpath('//div[@class=\"col-md-8 col-sm-8 col-xs-9 txt-r6-n exPrc ng-binding\"]')\n",
    "    for i in price:\n",
    "        price1.append(i.text)\n",
    "except NoSuchElementException:\n",
    "    price1append('-') \n",
    "time.sleep(1)\n"
   ]
  },
  {
   "cell_type": "code",
   "execution_count": 39,
   "id": "22d4d753",
   "metadata": {},
   "outputs": [],
   "source": [
    "next_date=driver.find_element_by_xpath('/html/body/form/div[9]/div[2]/div[2]/a[2]')\n",
    "next_date.click()"
   ]
  },
  {
   "cell_type": "code",
   "execution_count": 40,
   "id": "1c296981",
   "metadata": {},
   "outputs": [],
   "source": [
    "#extracting the data from the pages and framing them in form of a list\n",
    "\n",
    "try:\n",
    "    name=driver.find_elements_by_xpath('//div[@class=\"col-md-7 col-sm-7 padd-lft airl-txt-n\"]')\n",
    "    for i in name:\n",
    "        name1.append(i.text)\n",
    "except NoSuchElementException:\n",
    "    name1.append('-') \n",
    "time.sleep(1)\n",
    "try:\n",
    "    source_dest=driver.find_elements_by_xpath('//span[@class=\"txt-r3-n ng-binding\"]')\n",
    "    for i in source_dest:\n",
    "        source_dest1.append(i.text)\n",
    "except NoSuchElementException:\n",
    "    source_dest1.append('-') \n",
    "time.sleep(1)\n",
    "try:\n",
    "    stops=driver.find_elements_by_xpath('//span[@class=\"dura_md2 ng-scope\"]')\n",
    "    for i in stops:\n",
    "        stops1.append(i.text)\n",
    "except NoSuchElementException:\n",
    "    stops1.append('-') \n",
    "time.sleep(1)\n",
    "try:\n",
    "    depart_time=driver.find_elements_by_xpath('//span[@class=\"txt-r2-n ng-binding\"]')\n",
    "    for i in depart_time:\n",
    "        depart_time1.append(i.text)\n",
    "except NoSuchElementException:\n",
    "    depart_time1.append('-') \n",
    "time.sleep(1)\n",
    "try:\n",
    "    duration=driver.find_elements_by_xpath('//span[@class=\"dura_md ng-binding\"]')\n",
    "    for i in duration:\n",
    "        duration1.append(i.text)\n",
    "except NoSuchElementException:\n",
    "    duration1.append('-') \n",
    "time.sleep(1)\n",
    "try:\n",
    "    price=driver.find_elements_by_xpath('//div[@class=\"col-md-8 col-sm-8 col-xs-9 txt-r6-n exPrc ng-binding\"]')\n",
    "    for i in price:\n",
    "        price1.append(i.text)\n",
    "except NoSuchElementException:\n",
    "    price1append('-') \n",
    "time.sleep(1)\n"
   ]
  },
  {
   "cell_type": "code",
   "execution_count": 42,
   "id": "e1801d64",
   "metadata": {},
   "outputs": [],
   "source": [
    "next_date=driver.find_element_by_xpath('/html/body/form/div[9]/div[2]/div[2]/a[2]')\n",
    "next_date.click()"
   ]
  },
  {
   "cell_type": "code",
   "execution_count": 43,
   "id": "f0573406",
   "metadata": {},
   "outputs": [],
   "source": [
    "#extracting the data from the pages and framing them in form of a list\n",
    "\n",
    "try:\n",
    "    name=driver.find_elements_by_xpath('//div[@class=\"col-md-7 col-sm-7 padd-lft airl-txt-n\"]')\n",
    "    for i in name:\n",
    "        name1.append(i.text)\n",
    "except NoSuchElementException:\n",
    "    name1.append('-') \n",
    "time.sleep(1)\n",
    "try:\n",
    "    source_dest=driver.find_elements_by_xpath('//span[@class=\"txt-r3-n ng-binding\"]')\n",
    "    for i in source_dest:\n",
    "        source_dest1.append(i.text)\n",
    "except NoSuchElementException:\n",
    "    source_dest1.append('-') \n",
    "time.sleep(1)\n",
    "try:\n",
    "    stops=driver.find_elements_by_xpath('//span[@class=\"dura_md2 ng-scope\"]')\n",
    "    for i in stops:\n",
    "        stops1.append(i.text)\n",
    "except NoSuchElementException:\n",
    "    stops1.append('-') \n",
    "time.sleep(1)\n",
    "try:\n",
    "    depart_time=driver.find_elements_by_xpath('//span[@class=\"txt-r2-n ng-binding\"]')\n",
    "    for i in depart_time:\n",
    "        depart_time1.append(i.text)\n",
    "except NoSuchElementException:\n",
    "    depart_time1.append('-') \n",
    "time.sleep(1)\n",
    "try:\n",
    "    duration=driver.find_elements_by_xpath('//span[@class=\"dura_md ng-binding\"]')\n",
    "    for i in duration:\n",
    "        duration1.append(i.text)\n",
    "except NoSuchElementException:\n",
    "    duration1.append('-') \n",
    "time.sleep(1)\n",
    "try:\n",
    "    price=driver.find_elements_by_xpath('//div[@class=\"col-md-8 col-sm-8 col-xs-9 txt-r6-n exPrc ng-binding\"]')\n",
    "    for i in price:\n",
    "        price1.append(i.text)\n",
    "except NoSuchElementException:\n",
    "    price1append('-') \n",
    "time.sleep(1)\n"
   ]
  },
  {
   "cell_type": "code",
   "execution_count": 34,
   "id": "7b171c7e",
   "metadata": {},
   "outputs": [
    {
     "data": {
      "text/plain": [
       "965"
      ]
     },
     "execution_count": 34,
     "metadata": {},
     "output_type": "execute_result"
    }
   ],
   "source": [
    "source_date = []\n",
    "x = '13july'\n",
    "for i in range(len(name1)):\n",
    "    source_date.append(x)\n",
    "len(source_date)"
   ]
  },
  {
   "cell_type": "code",
   "execution_count": 45,
   "id": "f3b0abb0",
   "metadata": {},
   "outputs": [],
   "source": [
    "next_date=driver.find_element_by_xpath('/html/body/form/div[9]/div[2]/div[2]/a[2]')\n",
    "next_date.click()"
   ]
  },
  {
   "cell_type": "code",
   "execution_count": 46,
   "id": "50c3aa91",
   "metadata": {},
   "outputs": [],
   "source": [
    "#extracting the data from the pages and framing them in form of a list\n",
    "\n",
    "try:\n",
    "    name=driver.find_elements_by_xpath('//div[@class=\"col-md-7 col-sm-7 padd-lft airl-txt-n\"]')\n",
    "    for i in name:\n",
    "        name1.append(i.text)\n",
    "except NoSuchElementException:\n",
    "    name1.append('-') \n",
    "time.sleep(1)\n",
    "try:\n",
    "    source_dest=driver.find_elements_by_xpath('//span[@class=\"txt-r3-n ng-binding\"]')\n",
    "    for i in source_dest:\n",
    "        source_dest1.append(i.text)\n",
    "except NoSuchElementException:\n",
    "    source_dest1.append('-') \n",
    "time.sleep(1)\n",
    "try:\n",
    "    stops=driver.find_elements_by_xpath('//span[@class=\"dura_md2 ng-scope\"]')\n",
    "    for i in stops:\n",
    "        stops1.append(i.text)\n",
    "except NoSuchElementException:\n",
    "    stops1.append('-') \n",
    "time.sleep(1)\n",
    "try:\n",
    "    depart_time=driver.find_elements_by_xpath('//span[@class=\"txt-r2-n ng-binding\"]')\n",
    "    for i in depart_time:\n",
    "        depart_time1.append(i.text)\n",
    "except NoSuchElementException:\n",
    "    depart_time1.append('-') \n",
    "time.sleep(1)\n",
    "try:\n",
    "    duration=driver.find_elements_by_xpath('//span[@class=\"dura_md ng-binding\"]')\n",
    "    for i in duration:\n",
    "        duration1.append(i.text)\n",
    "except NoSuchElementException:\n",
    "    duration1.append('-') \n",
    "time.sleep(1)\n",
    "try:\n",
    "    price=driver.find_elements_by_xpath('//div[@class=\"col-md-8 col-sm-8 col-xs-9 txt-r6-n exPrc ng-binding\"]')\n",
    "    for i in price:\n",
    "        price1.append(i.text)\n",
    "except NoSuchElementException:\n",
    "    price1append('-') \n",
    "time.sleep(1)\n"
   ]
  },
  {
   "cell_type": "code",
   "execution_count": 38,
   "id": "3d9b7348",
   "metadata": {},
   "outputs": [
    {
     "data": {
      "text/plain": [
       "1218"
      ]
     },
     "execution_count": 38,
     "metadata": {},
     "output_type": "execute_result"
    }
   ],
   "source": [
    "source_date = []\n",
    "x = '14july'\n",
    "for i in range(len(name1)):\n",
    "    source_date.append(x)\n",
    "len(source_date)"
   ]
  },
  {
   "cell_type": "code",
   "execution_count": 48,
   "id": "52144aa6",
   "metadata": {},
   "outputs": [],
   "source": [
    "next_date=driver.find_element_by_xpath('/html/body/form/div[9]/div[2]/div[2]/a[2]')\n",
    "next_date.click()"
   ]
  },
  {
   "cell_type": "code",
   "execution_count": 49,
   "id": "698ae79b",
   "metadata": {},
   "outputs": [],
   "source": [
    "#extracting the data from the pages and framing them in form of a list\n",
    "\n",
    "try:\n",
    "    name=driver.find_elements_by_xpath('//div[@class=\"col-md-7 col-sm-7 padd-lft airl-txt-n\"]')\n",
    "    for i in name:\n",
    "        name1.append(i.text)\n",
    "except NoSuchElementException:\n",
    "    name1.append('-') \n",
    "time.sleep(1)\n",
    "try:\n",
    "    source_dest=driver.find_elements_by_xpath('//span[@class=\"txt-r3-n ng-binding\"]')\n",
    "    for i in source_dest:\n",
    "        source_dest1.append(i.text)\n",
    "except NoSuchElementException:\n",
    "    source_dest1.append('-') \n",
    "time.sleep(1)\n",
    "try:\n",
    "    stops=driver.find_elements_by_xpath('//span[@class=\"dura_md2 ng-scope\"]')\n",
    "    for i in stops:\n",
    "        stops1.append(i.text)\n",
    "except NoSuchElementException:\n",
    "    stops1.append('-') \n",
    "time.sleep(1)\n",
    "try:\n",
    "    depart_time=driver.find_elements_by_xpath('//span[@class=\"txt-r2-n ng-binding\"]')\n",
    "    for i in depart_time:\n",
    "        depart_time1.append(i.text)\n",
    "except NoSuchElementException:\n",
    "    depart_time1.append('-') \n",
    "time.sleep(1)\n",
    "try:\n",
    "    duration=driver.find_elements_by_xpath('//span[@class=\"dura_md ng-binding\"]')\n",
    "    for i in duration:\n",
    "        duration1.append(i.text)\n",
    "except NoSuchElementException:\n",
    "    duration1.append('-') \n",
    "time.sleep(1)\n",
    "try:\n",
    "    price=driver.find_elements_by_xpath('//div[@class=\"col-md-8 col-sm-8 col-xs-9 txt-r6-n exPrc ng-binding\"]')\n",
    "    for i in price:\n",
    "        price1.append(i.text)\n",
    "except NoSuchElementException:\n",
    "    price1append('-') \n",
    "time.sleep(1)"
   ]
  },
  {
   "cell_type": "code",
   "execution_count": 41,
   "id": "3474879a",
   "metadata": {},
   "outputs": [
    {
     "data": {
      "text/plain": [
       "1461"
      ]
     },
     "execution_count": 41,
     "metadata": {},
     "output_type": "execute_result"
    }
   ],
   "source": [
    "source_date = []\n",
    "x = '15july'\n",
    "for i in range(len(name1)):\n",
    "    source_date.append(x)\n",
    "len(source_date)"
   ]
  },
  {
   "cell_type": "code",
   "execution_count": 51,
   "id": "75736180",
   "metadata": {},
   "outputs": [],
   "source": [
    "next_date=driver.find_element_by_xpath('/html/body/form/div[9]/div[2]/div[2]/a[2]')\n",
    "next_date.click()"
   ]
  },
  {
   "cell_type": "code",
   "execution_count": 52,
   "id": "32dd89d4",
   "metadata": {},
   "outputs": [],
   "source": [
    "#extracting the data from the pages and framing them in form of a list\n",
    "\n",
    "try:\n",
    "    name=driver.find_elements_by_xpath('//div[@class=\"col-md-7 col-sm-7 padd-lft airl-txt-n\"]')\n",
    "    for i in name:\n",
    "        name1.append(i.text)\n",
    "except NoSuchElementException:\n",
    "    name1.append('-') \n",
    "time.sleep(1)\n",
    "try:\n",
    "    source_dest=driver.find_elements_by_xpath('//span[@class=\"txt-r3-n ng-binding\"]')\n",
    "    for i in source_dest:\n",
    "        source_dest1.append(i.text)\n",
    "except NoSuchElementException:\n",
    "    source_dest1.append('-') \n",
    "time.sleep(1)\n",
    "try:\n",
    "    stops=driver.find_elements_by_xpath('//span[@class=\"dura_md2 ng-scope\"]')\n",
    "    for i in stops:\n",
    "        stops1.append(i.text)\n",
    "except NoSuchElementException:\n",
    "    stops1.append('-') \n",
    "time.sleep(1)\n",
    "try:\n",
    "    depart_time=driver.find_elements_by_xpath('//span[@class=\"txt-r2-n ng-binding\"]')\n",
    "    for i in depart_time:\n",
    "        depart_time1.append(i.text)\n",
    "except NoSuchElementException:\n",
    "    depart_time1.append('-') \n",
    "time.sleep(1)\n",
    "try:\n",
    "    duration=driver.find_elements_by_xpath('//span[@class=\"dura_md ng-binding\"]')\n",
    "    for i in duration:\n",
    "        duration1.append(i.text)\n",
    "except NoSuchElementException:\n",
    "    duration1.append('-') \n",
    "time.sleep(1)\n",
    "try:\n",
    "    price=driver.find_elements_by_xpath('//div[@class=\"col-md-8 col-sm-8 col-xs-9 txt-r6-n exPrc ng-binding\"]')\n",
    "    for i in price:\n",
    "        price1.append(i.text)\n",
    "except NoSuchElementException:\n",
    "    price1append('-') \n",
    "time.sleep(1)"
   ]
  },
  {
   "cell_type": "code",
   "execution_count": 53,
   "id": "0baae67c",
   "metadata": {},
   "outputs": [
    {
     "data": {
      "text/plain": [
       "1713"
      ]
     },
     "execution_count": 53,
     "metadata": {},
     "output_type": "execute_result"
    }
   ],
   "source": [
    "len(name1)"
   ]
  },
  {
   "cell_type": "code",
   "execution_count": 44,
   "id": "5cffa07d",
   "metadata": {},
   "outputs": [
    {
     "data": {
      "text/plain": [
       "1704"
      ]
     },
     "execution_count": 44,
     "metadata": {},
     "output_type": "execute_result"
    }
   ],
   "source": [
    "source_date = []\n",
    "x = '16july'\n",
    "for i in range(len(name1)):\n",
    "    source_date.append(x)\n",
    "len(source_date)"
   ]
  },
  {
   "cell_type": "code",
   "execution_count": 54,
   "id": "1d87db15",
   "metadata": {},
   "outputs": [
    {
     "name": "stdout",
     "output_type": "stream",
     "text": [
      "1713 3318 1659 3318 1659 1659\n"
     ]
    }
   ],
   "source": [
    "print(len(name1),len(source_dest1),len(stops1),len(depart_time1),len(duration1),len(price1))"
   ]
  },
  {
   "cell_type": "code",
   "execution_count": 55,
   "id": "1bd52a15",
   "metadata": {},
   "outputs": [
    {
     "data": {
      "text/plain": [
       "1659"
      ]
     },
     "execution_count": 55,
     "metadata": {},
     "output_type": "execute_result"
    }
   ],
   "source": [
    "name=[]\n",
    "name=name1[0:1659]\n",
    "len(name)"
   ]
  },
  {
   "cell_type": "code",
   "execution_count": 57,
   "id": "6fcb82c3",
   "metadata": {},
   "outputs": [
    {
     "data": {
      "text/plain": [
       "1659"
      ]
     },
     "execution_count": 57,
     "metadata": {},
     "output_type": "execute_result"
    }
   ],
   "source": [
    "s='july10'\n",
    "w='july11'\n",
    "e='july12'\n",
    "q='july13'\n",
    "i='july14'\n",
    "o='july15'\n",
    "p='july16'\n",
    "source_date=[]\n",
    "from itertools import repeat\n",
    "source_date.extend(repeat(s,233))\n",
    "source_date.extend(repeat(w,240))\n",
    "source_date.extend(repeat(e,292))\n",
    "source_date.extend(repeat(q,236))\n",
    "source_date.extend(repeat(i,239))\n",
    "source_date.extend(repeat(o,235))\n",
    "source_date.extend(repeat(p,184))\n",
    "len(source_date)"
   ]
  },
  {
   "cell_type": "code",
   "execution_count": 58,
   "id": "61c72753",
   "metadata": {},
   "outputs": [],
   "source": [
    "source=[]\n",
    "dest=[]\n",
    "source=source_dest1[0:3318:2]\n",
    "dest=source_dest1[1:3318:2]"
   ]
  },
  {
   "cell_type": "code",
   "execution_count": 59,
   "id": "6f2ead21",
   "metadata": {},
   "outputs": [],
   "source": [
    "depart_time=[]\n",
    "source_time=[]\n",
    "source_time=depart_time1[0:3318:2]\n",
    "depart_time=depart_time1[1:3318:2]"
   ]
  },
  {
   "cell_type": "markdown",
   "id": "7dc1dc25",
   "metadata": {},
   "source": [
    "# Creating a DataFrame:"
   ]
  },
  {
   "cell_type": "code",
   "execution_count": 82,
   "id": "d473ceef",
   "metadata": {},
   "outputs": [
    {
     "data": {
      "text/html": [
       "<div>\n",
       "<style scoped>\n",
       "    .dataframe tbody tr th:only-of-type {\n",
       "        vertical-align: middle;\n",
       "    }\n",
       "\n",
       "    .dataframe tbody tr th {\n",
       "        vertical-align: top;\n",
       "    }\n",
       "\n",
       "    .dataframe thead th {\n",
       "        text-align: right;\n",
       "    }\n",
       "</style>\n",
       "<table border=\"1\" class=\"dataframe\">\n",
       "  <thead>\n",
       "    <tr style=\"text-align: right;\">\n",
       "      <th></th>\n",
       "      <th>name</th>\n",
       "      <th>source_date</th>\n",
       "      <th>Source</th>\n",
       "      <th>Destination</th>\n",
       "      <th>Stops</th>\n",
       "      <th>Depart_time</th>\n",
       "      <th>Arrival_time</th>\n",
       "      <th>Duration</th>\n",
       "      <th>Ticket_Price</th>\n",
       "    </tr>\n",
       "  </thead>\n",
       "  <tbody>\n",
       "    <tr>\n",
       "      <th>0</th>\n",
       "      <td>GO FIRST\\nG8- 530</td>\n",
       "      <td>july10</td>\n",
       "      <td>Delhi</td>\n",
       "      <td>Mumbai</td>\n",
       "      <td>non-stop</td>\n",
       "      <td>06:50</td>\n",
       "      <td>08:55</td>\n",
       "      <td>02h 05m</td>\n",
       "      <td>6,583</td>\n",
       "    </tr>\n",
       "    <tr>\n",
       "      <th>1</th>\n",
       "      <td>GO FIRST\\nG8- 334</td>\n",
       "      <td>july10</td>\n",
       "      <td>Delhi</td>\n",
       "      <td>Mumbai</td>\n",
       "      <td>non-stop</td>\n",
       "      <td>08:00</td>\n",
       "      <td>10:10</td>\n",
       "      <td>02h 10m</td>\n",
       "      <td>6,583</td>\n",
       "    </tr>\n",
       "    <tr>\n",
       "      <th>2</th>\n",
       "      <td>SpiceJet\\nSG-8709</td>\n",
       "      <td>july10</td>\n",
       "      <td>Delhi</td>\n",
       "      <td>Mumbai</td>\n",
       "      <td>non-stop</td>\n",
       "      <td>19:00</td>\n",
       "      <td>21:10</td>\n",
       "      <td>02h 10m</td>\n",
       "      <td>6,583</td>\n",
       "    </tr>\n",
       "    <tr>\n",
       "      <th>3</th>\n",
       "      <td>GO FIRST\\nG8-2501</td>\n",
       "      <td>july10</td>\n",
       "      <td>Delhi</td>\n",
       "      <td>Mumbai</td>\n",
       "      <td>non-stop</td>\n",
       "      <td>02:40</td>\n",
       "      <td>04:55</td>\n",
       "      <td>02h 15m</td>\n",
       "      <td>6,583</td>\n",
       "    </tr>\n",
       "    <tr>\n",
       "      <th>4</th>\n",
       "      <td>SpiceJet\\nSG-8701</td>\n",
       "      <td>july10</td>\n",
       "      <td>Delhi</td>\n",
       "      <td>Mumbai</td>\n",
       "      <td>non-stop</td>\n",
       "      <td>07:20</td>\n",
       "      <td>09:35</td>\n",
       "      <td>02h 15m</td>\n",
       "      <td>6,583</td>\n",
       "    </tr>\n",
       "    <tr>\n",
       "      <th>...</th>\n",
       "      <td>...</td>\n",
       "      <td>...</td>\n",
       "      <td>...</td>\n",
       "      <td>...</td>\n",
       "      <td>...</td>\n",
       "      <td>...</td>\n",
       "      <td>...</td>\n",
       "      <td>...</td>\n",
       "      <td>...</td>\n",
       "    </tr>\n",
       "    <tr>\n",
       "      <th>1654</th>\n",
       "      <td>Air India\\nAI-803</td>\n",
       "      <td>july16</td>\n",
       "      <td>Delhi</td>\n",
       "      <td>Mumbai</td>\n",
       "      <td>1-stop</td>\n",
       "      <td>14:45</td>\n",
       "      <td>23:00</td>\n",
       "      <td>08h 15m</td>\n",
       "      <td>14,828</td>\n",
       "    </tr>\n",
       "    <tr>\n",
       "      <th>1655</th>\n",
       "      <td>Air India\\nAI-479</td>\n",
       "      <td>july16</td>\n",
       "      <td>Delhi</td>\n",
       "      <td>Mumbai</td>\n",
       "      <td>1-stop</td>\n",
       "      <td>10:25</td>\n",
       "      <td>23:00</td>\n",
       "      <td>12h 35m</td>\n",
       "      <td>14,828</td>\n",
       "    </tr>\n",
       "    <tr>\n",
       "      <th>1656</th>\n",
       "      <td>Air India\\nAI-415</td>\n",
       "      <td>july16</td>\n",
       "      <td>Delhi</td>\n",
       "      <td>Mumbai</td>\n",
       "      <td>1-stop</td>\n",
       "      <td>09:25</td>\n",
       "      <td>16:10</td>\n",
       "      <td>06h 45m</td>\n",
       "      <td>15,427</td>\n",
       "    </tr>\n",
       "    <tr>\n",
       "      <th>1657</th>\n",
       "      <td>Air India\\nAI-407</td>\n",
       "      <td>july16</td>\n",
       "      <td>Delhi</td>\n",
       "      <td>Mumbai</td>\n",
       "      <td>1-stop</td>\n",
       "      <td>14:10</td>\n",
       "      <td>19:00</td>\n",
       "      <td>04h 50m</td>\n",
       "      <td>18,975</td>\n",
       "    </tr>\n",
       "    <tr>\n",
       "      <th>1658</th>\n",
       "      <td>Air India\\nAI-504</td>\n",
       "      <td>july16</td>\n",
       "      <td>Delhi</td>\n",
       "      <td>Mumbai</td>\n",
       "      <td>1-stop</td>\n",
       "      <td>10:30</td>\n",
       "      <td>19:00</td>\n",
       "      <td>08h 30m</td>\n",
       "      <td>21,075</td>\n",
       "    </tr>\n",
       "  </tbody>\n",
       "</table>\n",
       "<p>1659 rows × 9 columns</p>\n",
       "</div>"
      ],
      "text/plain": [
       "                   name source_date Source Destination     Stops Depart_time  \\\n",
       "0     GO FIRST\\nG8- 530      july10  Delhi      Mumbai  non-stop       06:50   \n",
       "1     GO FIRST\\nG8- 334      july10  Delhi      Mumbai  non-stop       08:00   \n",
       "2     SpiceJet\\nSG-8709      july10  Delhi      Mumbai  non-stop       19:00   \n",
       "3     GO FIRST\\nG8-2501      july10  Delhi      Mumbai  non-stop       02:40   \n",
       "4     SpiceJet\\nSG-8701      july10  Delhi      Mumbai  non-stop       07:20   \n",
       "...                 ...         ...    ...         ...       ...         ...   \n",
       "1654  Air India\\nAI-803      july16  Delhi      Mumbai    1-stop       14:45   \n",
       "1655  Air India\\nAI-479      july16  Delhi      Mumbai    1-stop       10:25   \n",
       "1656  Air India\\nAI-415      july16  Delhi      Mumbai    1-stop       09:25   \n",
       "1657  Air India\\nAI-407      july16  Delhi      Mumbai    1-stop       14:10   \n",
       "1658  Air India\\nAI-504      july16  Delhi      Mumbai    1-stop       10:30   \n",
       "\n",
       "     Arrival_time Duration Ticket_Price  \n",
       "0           08:55  02h 05m        6,583  \n",
       "1           10:10  02h 10m        6,583  \n",
       "2           21:10  02h 10m        6,583  \n",
       "3           04:55  02h 15m        6,583  \n",
       "4           09:35  02h 15m        6,583  \n",
       "...           ...      ...          ...  \n",
       "1654        23:00  08h 15m       14,828  \n",
       "1655        23:00  12h 35m       14,828  \n",
       "1656        16:10  06h 45m       15,427  \n",
       "1657        19:00  04h 50m       18,975  \n",
       "1658        19:00  08h 30m       21,075  \n",
       "\n",
       "[1659 rows x 9 columns]"
      ]
     },
     "execution_count": 82,
     "metadata": {},
     "output_type": "execute_result"
    }
   ],
   "source": [
    "df=pd.DataFrame({'name':name,'source_date':source_date,'Source':source,'Destination':dest,'Stops':stops1,'Depart_time':source_time,\n",
    "                'Arrival_time':depart_time,'Duration':duration1,'Ticket_Price':price1})\n",
    "df"
   ]
  },
  {
   "cell_type": "code",
   "execution_count": 83,
   "id": "47b787c2",
   "metadata": {},
   "outputs": [],
   "source": [
    "df.to_csv('fprice.csv')"
   ]
  },
  {
   "cell_type": "markdown",
   "id": "bc337135",
   "metadata": {},
   "source": [
    "# Importing all the necessary libraries:"
   ]
  },
  {
   "cell_type": "code",
   "execution_count": 84,
   "id": "0e9cdc17",
   "metadata": {},
   "outputs": [],
   "source": [
    "import pandas as pd \n",
    "import numpy as np\n",
    "import matplotlib.pyplot as plt\n",
    "import seaborn as sns\n",
    "\n",
    "import warnings\n",
    "warnings.filterwarnings('ignore')"
   ]
  },
  {
   "cell_type": "markdown",
   "id": "464ab88d",
   "metadata": {},
   "source": [
    "# FEATURES:\n",
    "Airline: The name of the airline.\n",
    "\n",
    "Date_of_Journey: The date of the journey\n",
    "\n",
    "Source: The source from which the service begins.\n",
    "\n",
    "Destination: The destination where the service ends.\n",
    "\n",
    "Route: The route taken by the flight to reach the destination.\n",
    "\n",
    "Dep_Time: The time when the journey starts from the source.\n",
    "\n",
    "Arrival_Time: Time of arrival at the destination.\n",
    "\n",
    "Duration: Total duration of the flight.\n",
    "\n",
    "Total_Stops: Total stops between the source and destination.\n",
    "\n",
    "Additional_Info: Additional information about the flight\n",
    "\n",
    "Price: The price of the ticket"
   ]
  },
  {
   "cell_type": "code",
   "execution_count": 85,
   "id": "8f1170c9",
   "metadata": {},
   "outputs": [
    {
     "data": {
      "text/plain": [
       "(1659, 9)"
      ]
     },
     "execution_count": 85,
     "metadata": {},
     "output_type": "execute_result"
    }
   ],
   "source": [
    "df.shape  #To get the data dimension "
   ]
  },
  {
   "cell_type": "code",
   "execution_count": 86,
   "id": "16c326cf",
   "metadata": {},
   "outputs": [
    {
     "name": "stdout",
     "output_type": "stream",
     "text": [
      "<class 'pandas.core.frame.DataFrame'>\n",
      "RangeIndex: 1659 entries, 0 to 1658\n",
      "Data columns (total 9 columns):\n",
      " #   Column        Non-Null Count  Dtype \n",
      "---  ------        --------------  ----- \n",
      " 0   name          1659 non-null   object\n",
      " 1   source_date   1659 non-null   object\n",
      " 2   Source        1659 non-null   object\n",
      " 3   Destination   1659 non-null   object\n",
      " 4   Stops         1659 non-null   object\n",
      " 5   Depart_time   1659 non-null   object\n",
      " 6   Arrival_time  1659 non-null   object\n",
      " 7   Duration      1659 non-null   object\n",
      " 8   Ticket_Price  1659 non-null   object\n",
      "dtypes: object(9)\n",
      "memory usage: 116.8+ KB\n"
     ]
    }
   ],
   "source": [
    "#To get all the information regarding data set:\n",
    "df.info()"
   ]
  },
  {
   "cell_type": "code",
   "execution_count": 88,
   "id": "427d9157",
   "metadata": {},
   "outputs": [
    {
     "data": {
      "text/html": [
       "<div>\n",
       "<style scoped>\n",
       "    .dataframe tbody tr th:only-of-type {\n",
       "        vertical-align: middle;\n",
       "    }\n",
       "\n",
       "    .dataframe tbody tr th {\n",
       "        vertical-align: top;\n",
       "    }\n",
       "\n",
       "    .dataframe thead th {\n",
       "        text-align: right;\n",
       "    }\n",
       "</style>\n",
       "<table border=\"1\" class=\"dataframe\">\n",
       "  <thead>\n",
       "    <tr style=\"text-align: right;\">\n",
       "      <th></th>\n",
       "      <th>name</th>\n",
       "      <th>source_date</th>\n",
       "      <th>Source</th>\n",
       "      <th>Destination</th>\n",
       "      <th>Stops</th>\n",
       "      <th>Depart_time</th>\n",
       "      <th>Arrival_time</th>\n",
       "      <th>Duration</th>\n",
       "      <th>Ticket_Price</th>\n",
       "    </tr>\n",
       "  </thead>\n",
       "  <tbody>\n",
       "    <tr>\n",
       "      <th>37</th>\n",
       "      <td>AirAsia\\nI5-798</td>\n",
       "      <td>july10</td>\n",
       "      <td>Delhi</td>\n",
       "      <td>Mumbai</td>\n",
       "      <td>1-stop</td>\n",
       "      <td>12:50</td>\n",
       "      <td>19:15</td>\n",
       "      <td>06h 25m</td>\n",
       "      <td></td>\n",
       "    </tr>\n",
       "    <tr>\n",
       "      <th>38</th>\n",
       "      <td>AirAsia\\nI5-744</td>\n",
       "      <td>july10</td>\n",
       "      <td>Delhi</td>\n",
       "      <td>Mumbai</td>\n",
       "      <td>1-stop</td>\n",
       "      <td>07:25</td>\n",
       "      <td>14:05</td>\n",
       "      <td>06h 40m</td>\n",
       "      <td></td>\n",
       "    </tr>\n",
       "    <tr>\n",
       "      <th>39</th>\n",
       "      <td>AirAsia\\nI5-552</td>\n",
       "      <td>july10</td>\n",
       "      <td>Delhi</td>\n",
       "      <td>Mumbai</td>\n",
       "      <td>1-stop</td>\n",
       "      <td>10:40</td>\n",
       "      <td>19:15</td>\n",
       "      <td>08h 35m</td>\n",
       "      <td></td>\n",
       "    </tr>\n",
       "    <tr>\n",
       "      <th>40</th>\n",
       "      <td>AirAsia\\nI5-1732</td>\n",
       "      <td>july10</td>\n",
       "      <td>Delhi</td>\n",
       "      <td>Mumbai</td>\n",
       "      <td>1-stop</td>\n",
       "      <td>21:40</td>\n",
       "      <td>07:15</td>\n",
       "      <td>09h 35m</td>\n",
       "      <td></td>\n",
       "    </tr>\n",
       "    <tr>\n",
       "      <th>41</th>\n",
       "      <td>AirAsia\\nI5-721</td>\n",
       "      <td>july10</td>\n",
       "      <td>Delhi</td>\n",
       "      <td>Mumbai</td>\n",
       "      <td>1-stop</td>\n",
       "      <td>21:00</td>\n",
       "      <td>07:15</td>\n",
       "      <td>10h 15m</td>\n",
       "      <td></td>\n",
       "    </tr>\n",
       "    <tr>\n",
       "      <th>...</th>\n",
       "      <td>...</td>\n",
       "      <td>...</td>\n",
       "      <td>...</td>\n",
       "      <td>...</td>\n",
       "      <td>...</td>\n",
       "      <td>...</td>\n",
       "      <td>...</td>\n",
       "      <td>...</td>\n",
       "      <td>...</td>\n",
       "    </tr>\n",
       "    <tr>\n",
       "      <th>1630</th>\n",
       "      <td>Air India\\nAI-475</td>\n",
       "      <td>july16</td>\n",
       "      <td>Delhi</td>\n",
       "      <td>Mumbai</td>\n",
       "      <td>1-stop</td>\n",
       "      <td>13:50</td>\n",
       "      <td>23:55</td>\n",
       "      <td>10h 05m</td>\n",
       "      <td></td>\n",
       "    </tr>\n",
       "    <tr>\n",
       "      <th>1637</th>\n",
       "      <td>GO FIRST\\nG8-2609</td>\n",
       "      <td>july16</td>\n",
       "      <td>Delhi</td>\n",
       "      <td>Mumbai</td>\n",
       "      <td>1-stop</td>\n",
       "      <td>14:50</td>\n",
       "      <td>23:55</td>\n",
       "      <td>09h 05m</td>\n",
       "      <td></td>\n",
       "    </tr>\n",
       "    <tr>\n",
       "      <th>1645</th>\n",
       "      <td>SpiceJet\\nSG-8207</td>\n",
       "      <td>july16</td>\n",
       "      <td>Delhi</td>\n",
       "      <td>Mumbai</td>\n",
       "      <td>1-stop</td>\n",
       "      <td>09:25</td>\n",
       "      <td>23:55</td>\n",
       "      <td>14h 30m</td>\n",
       "      <td></td>\n",
       "    </tr>\n",
       "    <tr>\n",
       "      <th>1647</th>\n",
       "      <td>GO FIRST\\nG8- 113</td>\n",
       "      <td>july16</td>\n",
       "      <td>Delhi</td>\n",
       "      <td>Mumbai</td>\n",
       "      <td>1-stop</td>\n",
       "      <td>11:30</td>\n",
       "      <td>18:00</td>\n",
       "      <td>06h 30m</td>\n",
       "      <td></td>\n",
       "    </tr>\n",
       "    <tr>\n",
       "      <th>1648</th>\n",
       "      <td>Air India\\nAI-406</td>\n",
       "      <td>july16</td>\n",
       "      <td>Delhi</td>\n",
       "      <td>Mumbai</td>\n",
       "      <td>1-stop</td>\n",
       "      <td>11:30</td>\n",
       "      <td>18:55</td>\n",
       "      <td>07h 25m</td>\n",
       "      <td></td>\n",
       "    </tr>\n",
       "  </tbody>\n",
       "</table>\n",
       "<p>240 rows × 9 columns</p>\n",
       "</div>"
      ],
      "text/plain": [
       "                   name source_date Source Destination   Stops Depart_time  \\\n",
       "37      AirAsia\\nI5-798      july10  Delhi      Mumbai  1-stop       12:50   \n",
       "38      AirAsia\\nI5-744      july10  Delhi      Mumbai  1-stop       07:25   \n",
       "39      AirAsia\\nI5-552      july10  Delhi      Mumbai  1-stop       10:40   \n",
       "40     AirAsia\\nI5-1732      july10  Delhi      Mumbai  1-stop       21:40   \n",
       "41      AirAsia\\nI5-721      july10  Delhi      Mumbai  1-stop       21:00   \n",
       "...                 ...         ...    ...         ...     ...         ...   \n",
       "1630  Air India\\nAI-475      july16  Delhi      Mumbai  1-stop       13:50   \n",
       "1637  GO FIRST\\nG8-2609      july16  Delhi      Mumbai  1-stop       14:50   \n",
       "1645  SpiceJet\\nSG-8207      july16  Delhi      Mumbai  1-stop       09:25   \n",
       "1647  GO FIRST\\nG8- 113      july16  Delhi      Mumbai  1-stop       11:30   \n",
       "1648  Air India\\nAI-406      july16  Delhi      Mumbai  1-stop       11:30   \n",
       "\n",
       "     Arrival_time Duration Ticket_Price  \n",
       "37          19:15  06h 25m               \n",
       "38          14:05  06h 40m               \n",
       "39          19:15  08h 35m               \n",
       "40          07:15  09h 35m               \n",
       "41          07:15  10h 15m               \n",
       "...           ...      ...          ...  \n",
       "1630        23:55  10h 05m               \n",
       "1637        23:55  09h 05m               \n",
       "1645        23:55  14h 30m               \n",
       "1647        18:00  06h 30m               \n",
       "1648        18:55  07h 25m               \n",
       "\n",
       "[240 rows x 9 columns]"
      ]
     },
     "execution_count": 88,
     "metadata": {},
     "output_type": "execute_result"
    }
   ],
   "source": [
    "df.loc[df['Ticket_Price']==''] #checking  the empty rows of the column"
   ]
  },
  {
   "cell_type": "code",
   "execution_count": 89,
   "id": "ecdaa5a9",
   "metadata": {},
   "outputs": [
    {
     "data": {
      "text/plain": [
       "name              0\n",
       "source_date       0\n",
       "Source            0\n",
       "Destination       0\n",
       "Stops             0\n",
       "Depart_time       0\n",
       "Arrival_time      0\n",
       "Duration          0\n",
       "Ticket_Price    240\n",
       "dtype: int64"
      ]
     },
     "execution_count": 89,
     "metadata": {},
     "output_type": "execute_result"
    }
   ],
   "source": [
    "df['Ticket_Price']=df['Ticket_Price'].replace('',np.nan)# replacing empty rows with nan values of this column\n",
    "df.isnull().sum() #null count"
   ]
  },
  {
   "cell_type": "code",
   "execution_count": 90,
   "id": "db953eab",
   "metadata": {},
   "outputs": [],
   "source": [
    "df['Ticket_Price'] = df['Ticket_Price'].str.replace(',','')"
   ]
  },
  {
   "cell_type": "code",
   "execution_count": 91,
   "id": "65509730",
   "metadata": {},
   "outputs": [
    {
     "data": {
      "text/html": [
       "<div>\n",
       "<style scoped>\n",
       "    .dataframe tbody tr th:only-of-type {\n",
       "        vertical-align: middle;\n",
       "    }\n",
       "\n",
       "    .dataframe tbody tr th {\n",
       "        vertical-align: top;\n",
       "    }\n",
       "\n",
       "    .dataframe thead th {\n",
       "        text-align: right;\n",
       "    }\n",
       "</style>\n",
       "<table border=\"1\" class=\"dataframe\">\n",
       "  <thead>\n",
       "    <tr style=\"text-align: right;\">\n",
       "      <th></th>\n",
       "      <th>name</th>\n",
       "      <th>source_date</th>\n",
       "      <th>Source</th>\n",
       "      <th>Destination</th>\n",
       "      <th>Stops</th>\n",
       "      <th>Depart_time</th>\n",
       "      <th>Arrival_time</th>\n",
       "      <th>Duration</th>\n",
       "      <th>Ticket_Price</th>\n",
       "    </tr>\n",
       "  </thead>\n",
       "  <tbody>\n",
       "    <tr>\n",
       "      <th>0</th>\n",
       "      <td>GO FIRST\\nG8- 530</td>\n",
       "      <td>july10</td>\n",
       "      <td>Delhi</td>\n",
       "      <td>Mumbai</td>\n",
       "      <td>non-stop</td>\n",
       "      <td>06:50</td>\n",
       "      <td>08:55</td>\n",
       "      <td>02h 05m</td>\n",
       "      <td>6583</td>\n",
       "    </tr>\n",
       "    <tr>\n",
       "      <th>1</th>\n",
       "      <td>GO FIRST\\nG8- 334</td>\n",
       "      <td>july10</td>\n",
       "      <td>Delhi</td>\n",
       "      <td>Mumbai</td>\n",
       "      <td>non-stop</td>\n",
       "      <td>08:00</td>\n",
       "      <td>10:10</td>\n",
       "      <td>02h 10m</td>\n",
       "      <td>6583</td>\n",
       "    </tr>\n",
       "    <tr>\n",
       "      <th>2</th>\n",
       "      <td>SpiceJet\\nSG-8709</td>\n",
       "      <td>july10</td>\n",
       "      <td>Delhi</td>\n",
       "      <td>Mumbai</td>\n",
       "      <td>non-stop</td>\n",
       "      <td>19:00</td>\n",
       "      <td>21:10</td>\n",
       "      <td>02h 10m</td>\n",
       "      <td>6583</td>\n",
       "    </tr>\n",
       "    <tr>\n",
       "      <th>3</th>\n",
       "      <td>GO FIRST\\nG8-2501</td>\n",
       "      <td>july10</td>\n",
       "      <td>Delhi</td>\n",
       "      <td>Mumbai</td>\n",
       "      <td>non-stop</td>\n",
       "      <td>02:40</td>\n",
       "      <td>04:55</td>\n",
       "      <td>02h 15m</td>\n",
       "      <td>6583</td>\n",
       "    </tr>\n",
       "    <tr>\n",
       "      <th>4</th>\n",
       "      <td>SpiceJet\\nSG-8701</td>\n",
       "      <td>july10</td>\n",
       "      <td>Delhi</td>\n",
       "      <td>Mumbai</td>\n",
       "      <td>non-stop</td>\n",
       "      <td>07:20</td>\n",
       "      <td>09:35</td>\n",
       "      <td>02h 15m</td>\n",
       "      <td>6583</td>\n",
       "    </tr>\n",
       "    <tr>\n",
       "      <th>...</th>\n",
       "      <td>...</td>\n",
       "      <td>...</td>\n",
       "      <td>...</td>\n",
       "      <td>...</td>\n",
       "      <td>...</td>\n",
       "      <td>...</td>\n",
       "      <td>...</td>\n",
       "      <td>...</td>\n",
       "      <td>...</td>\n",
       "    </tr>\n",
       "    <tr>\n",
       "      <th>1654</th>\n",
       "      <td>Air India\\nAI-803</td>\n",
       "      <td>july16</td>\n",
       "      <td>Delhi</td>\n",
       "      <td>Mumbai</td>\n",
       "      <td>1-stop</td>\n",
       "      <td>14:45</td>\n",
       "      <td>23:00</td>\n",
       "      <td>08h 15m</td>\n",
       "      <td>14828</td>\n",
       "    </tr>\n",
       "    <tr>\n",
       "      <th>1655</th>\n",
       "      <td>Air India\\nAI-479</td>\n",
       "      <td>july16</td>\n",
       "      <td>Delhi</td>\n",
       "      <td>Mumbai</td>\n",
       "      <td>1-stop</td>\n",
       "      <td>10:25</td>\n",
       "      <td>23:00</td>\n",
       "      <td>12h 35m</td>\n",
       "      <td>14828</td>\n",
       "    </tr>\n",
       "    <tr>\n",
       "      <th>1656</th>\n",
       "      <td>Air India\\nAI-415</td>\n",
       "      <td>july16</td>\n",
       "      <td>Delhi</td>\n",
       "      <td>Mumbai</td>\n",
       "      <td>1-stop</td>\n",
       "      <td>09:25</td>\n",
       "      <td>16:10</td>\n",
       "      <td>06h 45m</td>\n",
       "      <td>15427</td>\n",
       "    </tr>\n",
       "    <tr>\n",
       "      <th>1657</th>\n",
       "      <td>Air India\\nAI-407</td>\n",
       "      <td>july16</td>\n",
       "      <td>Delhi</td>\n",
       "      <td>Mumbai</td>\n",
       "      <td>1-stop</td>\n",
       "      <td>14:10</td>\n",
       "      <td>19:00</td>\n",
       "      <td>04h 50m</td>\n",
       "      <td>18975</td>\n",
       "    </tr>\n",
       "    <tr>\n",
       "      <th>1658</th>\n",
       "      <td>Air India\\nAI-504</td>\n",
       "      <td>july16</td>\n",
       "      <td>Delhi</td>\n",
       "      <td>Mumbai</td>\n",
       "      <td>1-stop</td>\n",
       "      <td>10:30</td>\n",
       "      <td>19:00</td>\n",
       "      <td>08h 30m</td>\n",
       "      <td>21075</td>\n",
       "    </tr>\n",
       "  </tbody>\n",
       "</table>\n",
       "<p>1659 rows × 9 columns</p>\n",
       "</div>"
      ],
      "text/plain": [
       "                   name source_date Source Destination     Stops Depart_time  \\\n",
       "0     GO FIRST\\nG8- 530      july10  Delhi      Mumbai  non-stop       06:50   \n",
       "1     GO FIRST\\nG8- 334      july10  Delhi      Mumbai  non-stop       08:00   \n",
       "2     SpiceJet\\nSG-8709      july10  Delhi      Mumbai  non-stop       19:00   \n",
       "3     GO FIRST\\nG8-2501      july10  Delhi      Mumbai  non-stop       02:40   \n",
       "4     SpiceJet\\nSG-8701      july10  Delhi      Mumbai  non-stop       07:20   \n",
       "...                 ...         ...    ...         ...       ...         ...   \n",
       "1654  Air India\\nAI-803      july16  Delhi      Mumbai    1-stop       14:45   \n",
       "1655  Air India\\nAI-479      july16  Delhi      Mumbai    1-stop       10:25   \n",
       "1656  Air India\\nAI-415      july16  Delhi      Mumbai    1-stop       09:25   \n",
       "1657  Air India\\nAI-407      july16  Delhi      Mumbai    1-stop       14:10   \n",
       "1658  Air India\\nAI-504      july16  Delhi      Mumbai    1-stop       10:30   \n",
       "\n",
       "     Arrival_time Duration Ticket_Price  \n",
       "0           08:55  02h 05m         6583  \n",
       "1           10:10  02h 10m         6583  \n",
       "2           21:10  02h 10m         6583  \n",
       "3           04:55  02h 15m         6583  \n",
       "4           09:35  02h 15m         6583  \n",
       "...           ...      ...          ...  \n",
       "1654        23:00  08h 15m        14828  \n",
       "1655        23:00  12h 35m        14828  \n",
       "1656        16:10  06h 45m        15427  \n",
       "1657        19:00  04h 50m        18975  \n",
       "1658        19:00  08h 30m        21075  \n",
       "\n",
       "[1659 rows x 9 columns]"
      ]
     },
     "execution_count": 91,
     "metadata": {},
     "output_type": "execute_result"
    }
   ],
   "source": [
    "df"
   ]
  },
  {
   "cell_type": "code",
   "execution_count": 94,
   "id": "e90dc367",
   "metadata": {},
   "outputs": [
    {
     "data": {
      "text/plain": [
       "name            0\n",
       "source_date     0\n",
       "Source          0\n",
       "Destination     0\n",
       "Stops           0\n",
       "Depart_time     0\n",
       "Arrival_time    0\n",
       "Duration        0\n",
       "Ticket_Price    0\n",
       "dtype: int64"
      ]
     },
     "execution_count": 94,
     "metadata": {},
     "output_type": "execute_result"
    }
   ],
   "source": [
    "df[\"Ticket_Price\"] = pd.to_numeric(df[\"Ticket_Price\"])\n",
    "df['Ticket_Price']=df['Ticket_Price'].fillna(np.mean(df['Ticket_Price']))#filling up the null value with the mean\n",
    "df.isnull().sum()"
   ]
  },
  {
   "cell_type": "code",
   "execution_count": 95,
   "id": "acc6eadf",
   "metadata": {},
   "outputs": [
    {
     "data": {
      "text/plain": [
       "name             object\n",
       "source_date      object\n",
       "Source           object\n",
       "Destination      object\n",
       "Stops            object\n",
       "Depart_time      object\n",
       "Arrival_time     object\n",
       "Duration         object\n",
       "Ticket_Price    float64\n",
       "dtype: object"
      ]
     },
     "execution_count": 95,
     "metadata": {},
     "output_type": "execute_result"
    }
   ],
   "source": [
    "df.dtypes# checking the data type"
   ]
  },
  {
   "cell_type": "code",
   "execution_count": 98,
   "id": "4e9e8003",
   "metadata": {},
   "outputs": [
    {
     "data": {
      "text/plain": [
       "Index(['name', 'source_date', 'Source', 'Destination', 'Stops', 'Depart_time',\n",
       "       'Arrival_time', 'Duration', 'Ticket_Price'],\n",
       "      dtype='object')"
      ]
     },
     "execution_count": 98,
     "metadata": {},
     "output_type": "execute_result"
    }
   ],
   "source": [
    "df.columns#getting the column names"
   ]
  },
  {
   "cell_type": "code",
   "execution_count": 99,
   "id": "fef01bd3",
   "metadata": {},
   "outputs": [],
   "source": [
    "df_visualisation=df[['name', 'source_date', 'Source', 'Destination', 'Stops', 'Depart_time',\n",
    "       'Arrival_time', 'Duration']]"
   ]
  },
  {
   "cell_type": "markdown",
   "id": "241a2a2c",
   "metadata": {},
   "source": [
    "# Graphical analysis:\n",
    "scatter plot is shown with respect to Price variable"
   ]
  },
  {
   "cell_type": "code",
   "execution_count": 108,
   "id": "3372b3ae",
   "metadata": {},
   "outputs": [
    {
     "data": {
      "image/png": "[encoded data removed]",
      "text/plain": [
       "<Figure size 1296x1440 with 8 Axes>"
      ]
     },
     "metadata": {},
     "output_type": "display_data"
    }
   ],
   "source": [
    "import seaborn as sns\n",
    "import matplotlib.pyplot as plt\n",
    "\n",
    "y=df['Ticket_Price']\n",
    "x=df.drop(columns=['Ticket_Price'])\n",
    "plt.figure(figsize=(18,20),facecolor='white')\n",
    "plotnumber=1\n",
    "for column in x:\n",
    "    if plotnumber<=10:\n",
    "        ax=plt.subplot(2,5,plotnumber)\n",
    "        plt.scatter(x[column],y)\n",
    "        plt.xlabel(column,fontsize=20)\n",
    "        plt.ylabel('Price',fontsize=10)\n",
    "    plotnumber+=1 \n",
    "plt.tight_layout()"
   ]
  },
  {
   "cell_type": "markdown",
   "id": "4470177b",
   "metadata": {},
   "source": [
    "# OrdinalEncoding:\n",
    "TO convert all object type data to numerical of both training and testing data."
   ]
  },
  {
   "cell_type": "code",
   "execution_count": 109,
   "id": "18f1c561",
   "metadata": {},
   "outputs": [],
   "source": [
    "from sklearn.preprocessing import OrdinalEncoder\n",
    "ord_enc=OrdinalEncoder()\n",
    "\n",
    "for i in df.columns:\n",
    "    if df[i].dtypes==\"object\":\n",
    "        df[i]=ord_enc.fit_transform(df[i].values.reshape(-1,1))\n"
   ]
  },
  {
   "cell_type": "code",
   "execution_count": 111,
   "id": "1bea7015",
   "metadata": {},
   "outputs": [
    {
     "data": {
      "text/html": [
       "<div>\n",
       "<style scoped>\n",
       "    .dataframe tbody tr th:only-of-type {\n",
       "        vertical-align: middle;\n",
       "    }\n",
       "\n",
       "    .dataframe tbody tr th {\n",
       "        vertical-align: top;\n",
       "    }\n",
       "\n",
       "    .dataframe thead th {\n",
       "        text-align: right;\n",
       "    }\n",
       "</style>\n",
       "<table border=\"1\" class=\"dataframe\">\n",
       "  <thead>\n",
       "    <tr style=\"text-align: right;\">\n",
       "      <th></th>\n",
       "      <th>name</th>\n",
       "      <th>source_date</th>\n",
       "      <th>Source</th>\n",
       "      <th>Destination</th>\n",
       "      <th>Stops</th>\n",
       "      <th>Depart_time</th>\n",
       "      <th>Arrival_time</th>\n",
       "      <th>Duration</th>\n",
       "      <th>Ticket_Price</th>\n",
       "    </tr>\n",
       "  </thead>\n",
       "  <tbody>\n",
       "    <tr>\n",
       "      <th>0</th>\n",
       "      <td>87.0</td>\n",
       "      <td>0.0</td>\n",
       "      <td>0.0</td>\n",
       "      <td>0.0</td>\n",
       "      <td>5.0</td>\n",
       "      <td>20.0</td>\n",
       "      <td>25.0</td>\n",
       "      <td>2.0</td>\n",
       "      <td>6583.0</td>\n",
       "    </tr>\n",
       "    <tr>\n",
       "      <th>1</th>\n",
       "      <td>80.0</td>\n",
       "      <td>0.0</td>\n",
       "      <td>0.0</td>\n",
       "      <td>0.0</td>\n",
       "      <td>5.0</td>\n",
       "      <td>27.0</td>\n",
       "      <td>34.0</td>\n",
       "      <td>3.0</td>\n",
       "      <td>6583.0</td>\n",
       "    </tr>\n",
       "    <tr>\n",
       "      <th>2</th>\n",
       "      <td>158.0</td>\n",
       "      <td>0.0</td>\n",
       "      <td>0.0</td>\n",
       "      <td>0.0</td>\n",
       "      <td>5.0</td>\n",
       "      <td>108.0</td>\n",
       "      <td>108.0</td>\n",
       "      <td>3.0</td>\n",
       "      <td>6583.0</td>\n",
       "    </tr>\n",
       "    <tr>\n",
       "      <th>3</th>\n",
       "      <td>92.0</td>\n",
       "      <td>0.0</td>\n",
       "      <td>0.0</td>\n",
       "      <td>0.0</td>\n",
       "      <td>5.0</td>\n",
       "      <td>2.0</td>\n",
       "      <td>8.0</td>\n",
       "      <td>4.0</td>\n",
       "      <td>6583.0</td>\n",
       "    </tr>\n",
       "    <tr>\n",
       "      <th>4</th>\n",
       "      <td>157.0</td>\n",
       "      <td>0.0</td>\n",
       "      <td>0.0</td>\n",
       "      <td>0.0</td>\n",
       "      <td>5.0</td>\n",
       "      <td>24.0</td>\n",
       "      <td>30.0</td>\n",
       "      <td>4.0</td>\n",
       "      <td>6583.0</td>\n",
       "    </tr>\n",
       "    <tr>\n",
       "      <th>...</th>\n",
       "      <td>...</td>\n",
       "      <td>...</td>\n",
       "      <td>...</td>\n",
       "      <td>...</td>\n",
       "      <td>...</td>\n",
       "      <td>...</td>\n",
       "      <td>...</td>\n",
       "      <td>...</td>\n",
       "      <td>...</td>\n",
       "    </tr>\n",
       "    <tr>\n",
       "      <th>1654</th>\n",
       "      <td>39.0</td>\n",
       "      <td>6.0</td>\n",
       "      <td>0.0</td>\n",
       "      <td>0.0</td>\n",
       "      <td>0.0</td>\n",
       "      <td>74.0</td>\n",
       "      <td>120.0</td>\n",
       "      <td>51.0</td>\n",
       "      <td>14828.0</td>\n",
       "    </tr>\n",
       "    <tr>\n",
       "      <th>1655</th>\n",
       "      <td>17.0</td>\n",
       "      <td>6.0</td>\n",
       "      <td>0.0</td>\n",
       "      <td>0.0</td>\n",
       "      <td>0.0</td>\n",
       "      <td>45.0</td>\n",
       "      <td>120.0</td>\n",
       "      <td>89.0</td>\n",
       "      <td>14828.0</td>\n",
       "    </tr>\n",
       "    <tr>\n",
       "      <th>1656</th>\n",
       "      <td>6.0</td>\n",
       "      <td>6.0</td>\n",
       "      <td>0.0</td>\n",
       "      <td>0.0</td>\n",
       "      <td>0.0</td>\n",
       "      <td>36.0</td>\n",
       "      <td>74.0</td>\n",
       "      <td>37.0</td>\n",
       "      <td>15427.0</td>\n",
       "    </tr>\n",
       "    <tr>\n",
       "      <th>1657</th>\n",
       "      <td>4.0</td>\n",
       "      <td>6.0</td>\n",
       "      <td>0.0</td>\n",
       "      <td>0.0</td>\n",
       "      <td>0.0</td>\n",
       "      <td>70.0</td>\n",
       "      <td>97.0</td>\n",
       "      <td>16.0</td>\n",
       "      <td>18975.0</td>\n",
       "    </tr>\n",
       "    <tr>\n",
       "      <th>1658</th>\n",
       "      <td>22.0</td>\n",
       "      <td>6.0</td>\n",
       "      <td>0.0</td>\n",
       "      <td>0.0</td>\n",
       "      <td>0.0</td>\n",
       "      <td>46.0</td>\n",
       "      <td>97.0</td>\n",
       "      <td>52.0</td>\n",
       "      <td>21075.0</td>\n",
       "    </tr>\n",
       "  </tbody>\n",
       "</table>\n",
       "<p>1659 rows × 9 columns</p>\n",
       "</div>"
      ],
      "text/plain": [
       "       name  source_date  Source  Destination  Stops  Depart_time  \\\n",
       "0      87.0          0.0     0.0          0.0    5.0         20.0   \n",
       "1      80.0          0.0     0.0          0.0    5.0         27.0   \n",
       "2     158.0          0.0     0.0          0.0    5.0        108.0   \n",
       "3      92.0          0.0     0.0          0.0    5.0          2.0   \n",
       "4     157.0          0.0     0.0          0.0    5.0         24.0   \n",
       "...     ...          ...     ...          ...    ...          ...   \n",
       "1654   39.0          6.0     0.0          0.0    0.0         74.0   \n",
       "1655   17.0          6.0     0.0          0.0    0.0         45.0   \n",
       "1656    6.0          6.0     0.0          0.0    0.0         36.0   \n",
       "1657    4.0          6.0     0.0          0.0    0.0         70.0   \n",
       "1658   22.0          6.0     0.0          0.0    0.0         46.0   \n",
       "\n",
       "      Arrival_time  Duration  Ticket_Price  \n",
       "0             25.0       2.0        6583.0  \n",
       "1             34.0       3.0        6583.0  \n",
       "2            108.0       3.0        6583.0  \n",
       "3              8.0       4.0        6583.0  \n",
       "4             30.0       4.0        6583.0  \n",
       "...            ...       ...           ...  \n",
       "1654         120.0      51.0       14828.0  \n",
       "1655         120.0      89.0       14828.0  \n",
       "1656          74.0      37.0       15427.0  \n",
       "1657          97.0      16.0       18975.0  \n",
       "1658          97.0      52.0       21075.0  \n",
       "\n",
       "[1659 rows x 9 columns]"
      ]
     },
     "execution_count": 111,
     "metadata": {},
     "output_type": "execute_result"
    }
   ],
   "source": [
    "df"
   ]
  },
  {
   "cell_type": "code",
   "execution_count": 113,
   "id": "725c08db",
   "metadata": {},
   "outputs": [],
   "source": [
    "df1=df.drop(columns=['Source','Destination'],axis=True)# dropping the unnecessary columns"
   ]
  },
  {
   "cell_type": "markdown",
   "id": "389ca6a2",
   "metadata": {},
   "source": [
    "# Correlatin using heat map :"
   ]
  },
  {
   "cell_type": "code",
   "execution_count": 114,
   "id": "5b905594",
   "metadata": {},
   "outputs": [
    {
     "data": {
      "image/png": "[encoded data removed]",
      "text/plain": [
       "<Figure size 1584x1152 with 2 Axes>"
      ]
     },
     "metadata": {
      "needs_background": "light"
     },
     "output_type": "display_data"
    }
   ],
   "source": [
    "df_corr=df1.corr().abs()\n",
    "\n",
    "plt.figure(figsize=(22,16))\n",
    "sns.heatmap(df_corr,annot=True,annot_kws={'size':12})\n",
    "plt.title('correlation matrix')\n",
    "plt.show() "
   ]
  },
  {
   "cell_type": "markdown",
   "id": "884118b8",
   "metadata": {},
   "source": [
    "# Correlation with Price variable to all the features in training data:"
   ]
  },
  {
   "cell_type": "code",
   "execution_count": 115,
   "id": "d62daef6",
   "metadata": {},
   "outputs": [
    {
     "data": {
      "image/png": "[encoded data removed]",
      "text/plain": [
       "<Figure size 720x504 with 1 Axes>"
      ]
     },
     "metadata": {
      "needs_background": "light"
     },
     "output_type": "display_data"
    }
   ],
   "source": [
    "df1.drop('Ticket_Price',axis=1).corrwith(df1.Ticket_Price).plot(kind='bar',grid=False,figsize=(10,7),title='Correlation with Price')\n",
    "plt.show()"
   ]
  },
  {
   "cell_type": "markdown",
   "id": "9f8327c5",
   "metadata": {},
   "source": [
    "# Checking Outliers:"
   ]
  },
  {
   "cell_type": "code",
   "execution_count": 116,
   "id": "26838132",
   "metadata": {},
   "outputs": [
    {
     "data": {
      "image/png": "[encoded data removed]",
      "text/plain": [
       "<Figure size 1080x1296 with 6 Axes>"
      ]
     },
     "metadata": {
      "needs_background": "light"
     },
     "output_type": "display_data"
    }
   ],
   "source": [
    "x=df1.drop(columns=['Ticket_Price'])\n",
    "plt.figure(figsize=(15,18))\n",
    "graph=1\n",
    "for column in x:\n",
    "    if graph<=10:\n",
    "        ax=plt.subplot(2,5,graph)\n",
    "        sns.boxplot(x[column],orient='v')\n",
    "        plt.xlabel(column)\n",
    "    graph+=1\n",
    "plt.show()  "
   ]
  },
  {
   "cell_type": "markdown",
   "id": "50d557ff",
   "metadata": {},
   "source": [
    "# Skewness:"
   ]
  },
  {
   "cell_type": "code",
   "execution_count": 117,
   "id": "1315c2d7",
   "metadata": {},
   "outputs": [
    {
     "data": {
      "text/plain": [
       "name            0.030027\n",
       "source_date     0.078100\n",
       "Stops           1.201071\n",
       "Depart_time     0.143800\n",
       "Arrival_time   -0.161484\n",
       "Duration        0.463740\n",
       "Ticket_Price    1.126336\n",
       "dtype: float64"
      ]
     },
     "execution_count": 117,
     "metadata": {},
     "output_type": "execute_result"
    }
   ],
   "source": [
    "df1.skew()"
   ]
  },
  {
   "cell_type": "markdown",
   "id": "0ef7d9c3",
   "metadata": {},
   "source": [
    "# Removing outlier using Zscore technique:"
   ]
  },
  {
   "cell_type": "code",
   "execution_count": 118,
   "id": "e880f265",
   "metadata": {},
   "outputs": [
    {
     "data": {
      "text/html": [
       "<div>\n",
       "<style scoped>\n",
       "    .dataframe tbody tr th:only-of-type {\n",
       "        vertical-align: middle;\n",
       "    }\n",
       "\n",
       "    .dataframe tbody tr th {\n",
       "        vertical-align: top;\n",
       "    }\n",
       "\n",
       "    .dataframe thead th {\n",
       "        text-align: right;\n",
       "    }\n",
       "</style>\n",
       "<table border=\"1\" class=\"dataframe\">\n",
       "  <thead>\n",
       "    <tr style=\"text-align: right;\">\n",
       "      <th></th>\n",
       "      <th>name</th>\n",
       "      <th>source_date</th>\n",
       "      <th>Stops</th>\n",
       "      <th>Depart_time</th>\n",
       "      <th>Arrival_time</th>\n",
       "      <th>Duration</th>\n",
       "      <th>Ticket_Price</th>\n",
       "    </tr>\n",
       "  </thead>\n",
       "  <tbody>\n",
       "    <tr>\n",
       "      <th>0</th>\n",
       "      <td>87.0</td>\n",
       "      <td>0.0</td>\n",
       "      <td>5.0</td>\n",
       "      <td>20.0</td>\n",
       "      <td>25.0</td>\n",
       "      <td>2.0</td>\n",
       "      <td>6583.0</td>\n",
       "    </tr>\n",
       "    <tr>\n",
       "      <th>1</th>\n",
       "      <td>80.0</td>\n",
       "      <td>0.0</td>\n",
       "      <td>5.0</td>\n",
       "      <td>27.0</td>\n",
       "      <td>34.0</td>\n",
       "      <td>3.0</td>\n",
       "      <td>6583.0</td>\n",
       "    </tr>\n",
       "    <tr>\n",
       "      <th>2</th>\n",
       "      <td>158.0</td>\n",
       "      <td>0.0</td>\n",
       "      <td>5.0</td>\n",
       "      <td>108.0</td>\n",
       "      <td>108.0</td>\n",
       "      <td>3.0</td>\n",
       "      <td>6583.0</td>\n",
       "    </tr>\n",
       "    <tr>\n",
       "      <th>3</th>\n",
       "      <td>92.0</td>\n",
       "      <td>0.0</td>\n",
       "      <td>5.0</td>\n",
       "      <td>2.0</td>\n",
       "      <td>8.0</td>\n",
       "      <td>4.0</td>\n",
       "      <td>6583.0</td>\n",
       "    </tr>\n",
       "    <tr>\n",
       "      <th>4</th>\n",
       "      <td>157.0</td>\n",
       "      <td>0.0</td>\n",
       "      <td>5.0</td>\n",
       "      <td>24.0</td>\n",
       "      <td>30.0</td>\n",
       "      <td>4.0</td>\n",
       "      <td>6583.0</td>\n",
       "    </tr>\n",
       "  </tbody>\n",
       "</table>\n",
       "</div>"
      ],
      "text/plain": [
       "    name  source_date  Stops  Depart_time  Arrival_time  Duration  \\\n",
       "0   87.0          0.0    5.0         20.0          25.0       2.0   \n",
       "1   80.0          0.0    5.0         27.0          34.0       3.0   \n",
       "2  158.0          0.0    5.0        108.0         108.0       3.0   \n",
       "3   92.0          0.0    5.0          2.0           8.0       4.0   \n",
       "4  157.0          0.0    5.0         24.0          30.0       4.0   \n",
       "\n",
       "   Ticket_Price  \n",
       "0        6583.0  \n",
       "1        6583.0  \n",
       "2        6583.0  \n",
       "3        6583.0  \n",
       "4        6583.0  "
      ]
     },
     "execution_count": 118,
     "metadata": {},
     "output_type": "execute_result"
    }
   ],
   "source": [
    "from scipy.stats import zscore\n",
    "import numpy as np\n",
    "zsc=zscore(df1)\n",
    "abs_z_score=np.abs(zsc)\n",
    "filtering_entry=(abs_z_score<3).all(axis=1)\n",
    "df=df1[filtering_entry]\n",
    "df.head()"
   ]
  },
  {
   "cell_type": "code",
   "execution_count": 120,
   "id": "71245669",
   "metadata": {},
   "outputs": [
    {
     "data": {
      "text/plain": [
       "(1645, 7)"
      ]
     },
     "execution_count": 120,
     "metadata": {},
     "output_type": "execute_result"
    }
   ],
   "source": [
    "df.shape"
   ]
  },
  {
   "cell_type": "markdown",
   "id": "316f3287",
   "metadata": {},
   "source": [
    "# Percentage data loss:"
   ]
  },
  {
   "cell_type": "code",
   "execution_count": 121,
   "id": "d3cca533",
   "metadata": {},
   "outputs": [
    {
     "data": {
      "text/plain": [
       "0.8438818565400843"
      ]
     },
     "execution_count": 121,
     "metadata": {},
     "output_type": "execute_result"
    }
   ],
   "source": [
    "loss_percent=(1659-1645)/1659*100\n",
    "loss_percent"
   ]
  },
  {
   "cell_type": "markdown",
   "id": "eefebaca",
   "metadata": {},
   "source": [
    "# Model Building:"
   ]
  },
  {
   "cell_type": "code",
   "execution_count": 161,
   "id": "bb48d5a0",
   "metadata": {},
   "outputs": [],
   "source": [
    "x=df.drop(columns='Ticket_Price')\n",
    "y=df.Ticket_Price"
   ]
  },
  {
   "cell_type": "markdown",
   "id": "9142c512",
   "metadata": {},
   "source": [
    "# Scaling the x variable:"
   ]
  },
  {
   "cell_type": "code",
   "execution_count": 162,
   "id": "4aea5a8a",
   "metadata": {},
   "outputs": [
    {
     "data": {
      "text/plain": [
       "array([[-0.25639564, -1.49251687,  1.77225203, -1.12405506, -1.14437248,\n",
       "        -1.18377262],\n",
       "       [-0.36892359, -1.49251687,  1.77225203, -0.94475   , -0.91706099,\n",
       "        -1.16148152],\n",
       "       [ 0.88495927, -1.49251687,  1.77225203,  1.13006563,  0.95194459,\n",
       "        -1.16148152],\n",
       "       ...,\n",
       "       [-1.02801586,  1.62188936, -0.57392099,  0.25915537,  1.25502657,\n",
       "        -0.09150869],\n",
       "       [-1.38167513,  1.62188936, -0.57392099, -0.48367986,  1.25502657,\n",
       "         0.75555313],\n",
       "       [-1.55850477,  1.62188936, -0.57392099, -0.71421493,  0.0932123 ,\n",
       "        -0.4035841 ]])"
      ]
     },
     "execution_count": 162,
     "metadata": {},
     "output_type": "execute_result"
    }
   ],
   "source": [
    "from sklearn.preprocessing import StandardScaler\n",
    "sc=StandardScaler()\n",
    "x=sc.fit_transform(x)\n",
    "x"
   ]
  },
  {
   "cell_type": "markdown",
   "id": "bc4fc671",
   "metadata": {},
   "source": [
    "# Importing libraries:"
   ]
  },
  {
   "cell_type": "code",
   "execution_count": 163,
   "id": "37731f9b",
   "metadata": {},
   "outputs": [],
   "source": [
    "from sklearn.metrics import r2_score\n",
    "from sklearn.linear_model import LinearRegression\n",
    "from sklearn.model_selection import train_test_split"
   ]
  },
  {
   "cell_type": "markdown",
   "id": "fd14b566",
   "metadata": {},
   "source": [
    "# Creating train-test split"
   ]
  },
  {
   "cell_type": "code",
   "execution_count": 182,
   "id": "9ed7665d",
   "metadata": {},
   "outputs": [],
   "source": [
    "x_train,x_test,y_train,y_test=train_test_split(x,y,test_size=0.20,random_state=119)\n"
   ]
  },
  {
   "cell_type": "markdown",
   "id": "384e5d46",
   "metadata": {},
   "source": [
    "# LinearRegression model:"
   ]
  },
  {
   "cell_type": "code",
   "execution_count": 183,
   "id": "3e773864",
   "metadata": {},
   "outputs": [
    {
     "data": {
      "text/plain": [
       "LinearRegression()"
      ]
     },
     "execution_count": 183,
     "metadata": {},
     "output_type": "execute_result"
    }
   ],
   "source": [
    "regression=LinearRegression()\n",
    "regression.fit(x_train,y_train)"
   ]
  },
  {
   "cell_type": "code",
   "execution_count": 184,
   "id": "41a9eab0",
   "metadata": {},
   "outputs": [
    {
     "data": {
      "text/plain": [
       "array([10415.68952217, 10329.68118572,  6536.52344397,  9593.55860973,\n",
       "        6915.68310993, 10299.49147085,  9980.85043827, 11379.2683005 ,\n",
       "        9836.39637727,  5740.66441746,  5679.68008658,  9728.19713051,\n",
       "        6397.62976219,  9074.07414441,  8813.30003051, 11356.00479931,\n",
       "       10531.32238553,  6291.33883867, 10969.81241333,  9335.28196941,\n",
       "        9026.75117656,  9667.27451609, 10229.67241866, 11331.92942604,\n",
       "        6619.89646706, 11613.70057165,  9641.61431057,  6342.02753055,\n",
       "       10066.69483203,  6368.16327505, 12239.55628282,  9739.15318123,\n",
       "        8936.61163253,  9894.76752496,  9875.4154937 , 10179.95413354,\n",
       "        9666.11056256,  9625.46507876, 10986.50496164, 10289.19345109,\n",
       "       11460.89146147,  6089.38806664,  9079.27612764, 10627.12403855,\n",
       "        9554.9721579 ,  9928.8892069 ,  8328.09297899,  6598.24218835,\n",
       "        6409.91578795, 10097.68402249,  5608.39531175, 10817.97045551,\n",
       "       10157.28233305, 10349.15181315,  6201.23690902, 10478.50803384,\n",
       "        5979.56245849,  6365.40091083, 10614.9117086 ,  5946.47730506,\n",
       "        5855.42889665, 10075.76148023,  6757.33774502, 10138.1721284 ,\n",
       "       11027.01797148, 11616.12359039,  9976.42079144,  6899.22372835,\n",
       "        9065.6581738 ,  6981.74773939,  9265.53980798, 10435.04707734,\n",
       "        6736.90477808, 10286.40842762,  9114.43481871,  9375.4720794 ,\n",
       "        9148.85439587, 10528.16863225, 10201.26979918,  5511.45322714,\n",
       "        8382.36362352,  9525.8138131 ,  9326.28759764, 10632.48436022,\n",
       "        9365.6907609 ,  6268.15865187, 11737.6040164 ,  9492.14852485,\n",
       "        9674.38655554,  6474.47163811,  8930.50013889,  6911.03405042,\n",
       "       10019.43577891, 10886.00991862,  5910.15028076, 10225.6438486 ,\n",
       "        6529.16332173, 11254.03288985,  6525.8890985 ,  9108.3295383 ,\n",
       "        9177.09030494,  8303.59871476,  7764.89057688, 11501.52813437,\n",
       "        9637.52320123, 10612.58433094,  5776.22002229, 10421.89037347,\n",
       "        9687.80409555,  5774.4230355 ,  8739.04212931,  9417.07315988,\n",
       "        8683.89119914,  9830.43754925, 10216.07489387, 10804.51640542,\n",
       "       10463.19392605,  9285.09992411,  6220.69703989, 11803.45133968,\n",
       "       10506.011253  ,  6743.14687773,  8967.6319819 , 11511.37124159,\n",
       "       10210.24568489,  6865.86108494, 10213.36584705,  9267.50798253,\n",
       "        5749.5518301 , 11766.08449527, 11012.58789689, 11057.53971529,\n",
       "        9838.64025827, 10844.19640429, 10549.96985304, 10209.03801183,\n",
       "       11042.04485538,  5510.68250412,  9962.22251594, 10273.45429723,\n",
       "        9997.90273493, 10164.59542871, 10425.39650586,  8293.12091867,\n",
       "       10293.10417557, 10479.63375849, 11375.7069931 , 10095.29928497,\n",
       "       10710.07325398, 11131.37590907, 10621.77352778,  8645.40229502,\n",
       "       11540.01236509,  8649.82411922, 10871.77014755, 11980.00984465,\n",
       "       10209.15796821, 10179.25495966, 11932.43302101,  7052.81227028,\n",
       "       11081.31758561,  9762.85638044,  9717.68019902,  9303.22723812,\n",
       "        9213.8515222 ,  9406.88073628,  9800.97339057,  9127.38814141,\n",
       "       10309.56781261,  8837.06383707,  5987.52516237,  5406.094774  ,\n",
       "       11352.5330321 ,  9444.49631017,  9228.77699834,  9927.78507724,\n",
       "        8831.81570267,  9144.36919571,  8882.99095067, 10086.71867318,\n",
       "        9457.15516882,  8115.47326179,  5944.39345403,  5679.92741482,\n",
       "        6752.34963266,  6366.16281612, 10876.58439428,  9935.83196698,\n",
       "       11010.92436103,  6134.57699462,  9645.7851814 , 12406.58357765,\n",
       "        9718.59130503,  9895.81907026,  6601.48674162,  9104.43968567,\n",
       "        9924.99427303,  6518.76696263, 10923.05382274,  9820.77884406,\n",
       "        9117.17296029,  9568.36705092,  9780.15358806, 10507.8002818 ,\n",
       "        9331.73891942,  5659.95567826,  9530.87018531,  9902.05431335,\n",
       "        9832.866145  ,  9843.28871361, 10603.17769282,  9003.58863579,\n",
       "       10415.29463658,  9264.04179397, 10292.17854967,  8940.80956432,\n",
       "        9375.75724574, 11618.43793928, 10047.13467264, 10277.29859189,\n",
       "        9398.04509364,  8854.73982031, 10142.7824345 , 11515.13202964,\n",
       "        9285.72294204, 11424.74110042, 11438.81249673, 10398.52000298,\n",
       "        9342.82455734, 10208.08972665,  9354.79261916, 11370.39782431,\n",
       "        9920.3096135 ,  9684.88892255, 11234.29443199,  5312.66728078,\n",
       "        5304.45288127,  5437.1027646 ,  8918.5221396 ,  4963.71037284,\n",
       "       11293.13783233,  9090.05613511, 11750.71635226, 10902.99563656,\n",
       "       11220.97536076,  5307.55961587,  6546.6970439 ,  4957.5492214 ,\n",
       "        6333.12221344,  8916.52202195, 10025.43436898,  9831.64307342,\n",
       "       11777.56516961, 11165.50025573, 10093.64890296,  7055.41395724,\n",
       "       10643.5806245 ,  5884.55295721,  6027.90832228,  5891.59979399,\n",
       "        9472.50602198,  8715.58936147, 10407.97116862, 10226.44806278,\n",
       "        9192.24259799,  5566.69610988, 10432.85508231,  7523.49820486,\n",
       "        8723.76197955,  9549.09619028,  8142.65724366,  5611.05934052,\n",
       "       10870.62799937,  5707.93255864,  8203.60317255,  9698.72152221,\n",
       "        5826.95492667,  6338.5742927 ,  8411.7217351 , 10121.42122689,\n",
       "       10032.80548656,  6726.91901561, 10952.87022352,  6255.54152735,\n",
       "        5826.3725125 , 11262.57207493,  9075.91390683,  7055.41395724,\n",
       "        9819.02411041,  5604.88033692,  9708.77820827,  6935.35717346,\n",
       "       10243.57811303,  8767.19835287,  6403.40056441, 11056.47807909,\n",
       "        9823.86655142,  9871.00035736,  9242.2193415 , 10362.29883508,\n",
       "        8915.12523649,  6681.1954507 ,  9700.37522776,  5870.38233186,\n",
       "        5101.31552437,  6408.88961032, 11146.63980773, 10170.77900542,\n",
       "        5303.07784399, 10383.27160197, 11821.79697066,  6585.74805268,\n",
       "        5356.90332566,  8850.40033447,  6084.66537087,  8423.44549782,\n",
       "        9963.57731517,  6177.70564508,  9815.13444083,  4570.71603289,\n",
       "       10166.78112004,  9020.81296237,  6671.81933161, 10890.37302707,\n",
       "        6628.39666902,  7453.94352689, 11720.32792305, 10197.12680491,\n",
       "        9892.29802726])"
      ]
     },
     "execution_count": 184,
     "metadata": {},
     "output_type": "execute_result"
    }
   ],
   "source": [
    "y_pred=regression.predict(x_test)\n",
    "y_pred"
   ]
  },
  {
   "cell_type": "code",
   "execution_count": 185,
   "id": "3bd8d078",
   "metadata": {},
   "outputs": [
    {
     "data": {
      "text/plain": [
       "array([ 9243.39697339,  9954.01539086, 10094.95941656, ...,\n",
       "        8959.6484084 , 11277.57922512, 10210.72481454])"
      ]
     },
     "execution_count": 185,
     "metadata": {},
     "output_type": "execute_result"
    }
   ],
   "source": [
    "y_trpred=regression.predict(x_train)\n",
    "y_trpred"
   ]
  },
  {
   "cell_type": "code",
   "execution_count": 186,
   "id": "b9c2c080",
   "metadata": {},
   "outputs": [
    {
     "data": {
      "text/plain": [
       "0.4991276879431559"
      ]
     },
     "execution_count": 186,
     "metadata": {},
     "output_type": "execute_result"
    }
   ],
   "source": [
    "r2_score(y_test,y_pred) #r2 score of linear regression model"
   ]
  },
  {
   "cell_type": "markdown",
   "id": "dd3b1ed3",
   "metadata": {},
   "source": [
    "# Linear Regression Curve:"
   ]
  },
  {
   "cell_type": "code",
   "execution_count": 134,
   "id": "d8ccabe5",
   "metadata": {},
   "outputs": [
    {
     "data": {
      "image/png": "[encoded data removed]",
      "text/plain": [
       "<Figure size 576x432 with 1 Axes>"
      ]
     },
     "metadata": {
      "needs_background": "light"
     },
     "output_type": "display_data"
    }
   ],
   "source": [
    "plt.figure(figsize=(8,6))\n",
    "plt.scatter(y_test,y_pred,color='y')\n",
    "plt.plot(y_test,y_test,color='g')\n",
    "plt.xlabel('Actual rings',fontsize=14)\n",
    "plt.ylabel('predicted rings',fontsize=14)\n",
    "plt.title('Linear Regression',fontsize=18)\n",
    "plt.show()"
   ]
  },
  {
   "cell_type": "markdown",
   "id": "ddc8cff9",
   "metadata": {},
   "source": [
    "# Lasso Regression :"
   ]
  },
  {
   "cell_type": "code",
   "execution_count": 187,
   "id": "db7e1d98",
   "metadata": {},
   "outputs": [
    {
     "name": "stdout",
     "output_type": "stream",
     "text": [
      "{'alpha': 1, 'random_state': 0}\n"
     ]
    }
   ],
   "source": [
    "from sklearn.model_selection import GridSearchCV\n",
    "from sklearn.linear_model import Lasso\n",
    "\n",
    "parameters={'alpha':[0.0001,.001,.01,.1,1,10], 'random_state':list(range(0,10))}\n",
    "ls=Lasso()\n",
    "clf=GridSearchCV(ls,parameters)\n",
    "clf.fit(x_train,y_train)\n",
    "\n",
    "print(clf.best_params_)"
   ]
  },
  {
   "cell_type": "code",
   "execution_count": 188,
   "id": "6d3a92b8",
   "metadata": {},
   "outputs": [
    {
     "data": {
      "text/plain": [
       "0.49910875415805744"
      ]
     },
     "execution_count": 188,
     "metadata": {},
     "output_type": "execute_result"
    }
   ],
   "source": [
    "ls=Lasso(alpha=1,random_state=0)\n",
    "ls.fit(x_train,y_train)\n",
    "ls.score(x_train,y_train)\n",
    "pred_ls=ls.predict(x_test)\n",
    "\n",
    "lss=r2_score(y_test,pred_ls)\n",
    "lss"
   ]
  },
  {
   "cell_type": "markdown",
   "id": "97c0dcdd",
   "metadata": {},
   "source": [
    "# CrossValidation score:"
   ]
  },
  {
   "cell_type": "code",
   "execution_count": 189,
   "id": "1fb24dcf",
   "metadata": {},
   "outputs": [
    {
     "name": "stdout",
     "output_type": "stream",
     "text": [
      "at cv:- 2\n",
      "cv score- 16.04119680842769\n",
      "training_accuracy- 44.36866630143068\n",
      "testing_accuracy- 49.91276879431559\n",
      "at cv:- 3\n",
      "cv score- 27.031290559341564\n",
      "training_accuracy- 44.36866630143068\n",
      "testing_accuracy- 49.91276879431559\n",
      "at cv:- 4\n",
      "cv score- 35.06040690194071\n",
      "training_accuracy- 44.36866630143068\n",
      "testing_accuracy- 49.91276879431559\n",
      "at cv:- 5\n",
      "cv score- 31.93451728413887\n",
      "training_accuracy- 44.36866630143068\n",
      "testing_accuracy- 49.91276879431559\n",
      "at cv:- 6\n",
      "cv score- 39.26754735167812\n",
      "training_accuracy- 44.36866630143068\n",
      "testing_accuracy- 49.91276879431559\n",
      "at cv:- 7\n",
      "cv score- 37.63499162032677\n",
      "training_accuracy- 44.36866630143068\n",
      "testing_accuracy- 49.91276879431559\n",
      "at cv:- 8\n",
      "cv score- 41.58153609715871\n",
      "training_accuracy- 44.36866630143068\n",
      "testing_accuracy- 49.91276879431559\n",
      "at cv:- 9\n",
      "cv score- 29.95349076098355\n",
      "training_accuracy- 44.36866630143068\n",
      "testing_accuracy- 49.91276879431559\n"
     ]
    }
   ],
   "source": [
    "training_accuracy=r2_score(y_train,y_trpred)\n",
    "testing_accuracy=r2_score(y_test,y_pred)\n",
    "from sklearn.model_selection import cross_val_score\n",
    "for i in range(2,10):\n",
    "    csv=cross_val_score(regression,x,y,cv=i)\n",
    "    cv_mean=csv.mean()\n",
    "    print('at cv:-',i)\n",
    "    print('cv score-',cv_mean*100)\n",
    "    print('training_accuracy-',training_accuracy*100)\n",
    "    print('testing_accuracy-',testing_accuracy*100)"
   ]
  },
  {
   "cell_type": "code",
   "execution_count": 139,
   "id": "42eba8d0",
   "metadata": {},
   "outputs": [
    {
     "data": {
      "text/plain": [
       "0.415918939106398"
      ]
     },
     "execution_count": 139,
     "metadata": {},
     "output_type": "execute_result"
    }
   ],
   "source": [
    "csv=cross_val_score(ls,x,y,cv=8)\n",
    "cv_mean=csv.mean()\n",
    "cv_mean"
   ]
  },
  {
   "cell_type": "markdown",
   "id": "fbc7422a",
   "metadata": {},
   "source": [
    "# HyperParameter Tuning:"
   ]
  },
  {
   "cell_type": "markdown",
   "id": "b03120ae",
   "metadata": {},
   "source": [
    "# RandomForestRegression:"
   ]
  },
  {
   "cell_type": "code",
   "execution_count": 190,
   "id": "9152e510",
   "metadata": {},
   "outputs": [
    {
     "name": "stdout",
     "output_type": "stream",
     "text": [
      "{'criterion': 'mse', 'max_depth': 15, 'max_features': 'auto', 'min_samples_split': 10}\n"
     ]
    }
   ],
   "source": [
    "from sklearn.model_selection import GridSearchCV\n",
    "from sklearn.ensemble import RandomForestRegressor\n",
    "\n",
    "\n",
    "parameters={'criterion':['mse', 'mae'],\n",
    "            'max_features':['auto', 'sqrt', 'log2'],\n",
    "            'max_depth':[10,15],\n",
    "            'min_samples_split':[10,11]}\n",
    "rf=RandomForestRegressor()\n",
    "clf=GridSearchCV(rf,parameters)\n",
    "clf.fit(x_train,y_train)\n",
    "\n",
    "print(clf.best_params_)"
   ]
  },
  {
   "cell_type": "code",
   "execution_count": 191,
   "id": "fe6d3c26",
   "metadata": {},
   "outputs": [
    {
     "name": "stdout",
     "output_type": "stream",
     "text": [
      "R2 Score:  80.04798220618258\n",
      "Cross validation Score:  57.00859142355505\n"
     ]
    }
   ],
   "source": [
    "rf=RandomForestRegressor(criterion='mse',max_features='auto',max_depth=15,min_samples_split=10)\n",
    "rf.fit(x_train,y_train)\n",
    "rf.score(x_train,y_train)\n",
    "pred_rf=rf.predict(x_test)\n",
    "\n",
    "rfs=r2_score(y_test,pred_rf)\n",
    "print('R2 Score: ',rfs*100)\n",
    "\n",
    "rfcsv=cross_val_score(rf,x,y,cv=8)\n",
    "rf_cv_mean=rfcsv.mean()\n",
    "print('Cross validation Score: ',rf_cv_mean*100)"
   ]
  },
  {
   "cell_type": "markdown",
   "id": "59e6c828",
   "metadata": {},
   "source": [
    "# DecisionTreeRegression:"
   ]
  },
  {
   "cell_type": "code",
   "execution_count": 145,
   "id": "6ee6c111",
   "metadata": {},
   "outputs": [
    {
     "name": "stdout",
     "output_type": "stream",
     "text": [
      "{'criterion': 'mse', 'max_depth': 10, 'max_features': 'auto', 'min_samples_split': 4}\n"
     ]
    }
   ],
   "source": [
    "from sklearn.tree import DecisionTreeRegressor\n",
    "\n",
    "param_grid={'criterion':['mse', 'mae'],\n",
    "            'max_depth':range(10,15),\n",
    "            'min_samples_split':range(3,8),\n",
    "            'max_features':['auto', 'sqrt', 'log2'],\n",
    "            #'max_leaf_nodea':range(3,7)\n",
    "           }\n",
    "dtr=DecisionTreeRegressor()\n",
    "clf=GridSearchCV(dtr,param_grid)\n",
    "clf.fit(x_train,y_train)\n",
    "\n",
    "print(clf.best_params_)"
   ]
  },
  {
   "cell_type": "code",
   "execution_count": 192,
   "id": "853de526",
   "metadata": {},
   "outputs": [
    {
     "name": "stdout",
     "output_type": "stream",
     "text": [
      "R2 Score:  69.79148086298666\n",
      "Cross validation Score:  -15.122281155692077\n"
     ]
    }
   ],
   "source": [
    "dtr=DecisionTreeRegressor(criterion='mse',max_features='auto',max_depth=10,min_samples_split=4)\n",
    "dtr.fit(x_train,y_train)\n",
    "dtr.score(x_train,y_train)\n",
    "pred_dtr=dtr.predict(x_test)\n",
    "\n",
    "dtrs=r2_score(y_test,pred_dtr)\n",
    "print('R2 Score: ',dtrs*100)\n",
    "\n",
    "dtrcsv=cross_val_score(dtr,x,y,cv=8)\n",
    "dtr_cv_mean=dtrcsv.mean()\n",
    "print('Cross validation Score: ',dtr_cv_mean*100)"
   ]
  },
  {
   "cell_type": "markdown",
   "id": "7783e004",
   "metadata": {},
   "source": [
    "# KNeighborsRegression:"
   ]
  },
  {
   "cell_type": "code",
   "execution_count": 147,
   "id": "7eed94a7",
   "metadata": {},
   "outputs": [
    {
     "name": "stdout",
     "output_type": "stream",
     "text": [
      "{'algorithm': 'brute', 'leaf_size': 3, 'n_neighbors': 9, 'p': 1}\n"
     ]
    }
   ],
   "source": [
    "from sklearn.neighbors import KNeighborsRegressor\n",
    "\n",
    "param_grid={'algorithm':['kd-tree','brute'],\n",
    "            'leaf_size':[3,5 ,6,7,8],\n",
    "            'n_neighbors':[3,5,7,9,11,13],\n",
    "            'p':[1,2]}\n",
    "knr=KNeighborsRegressor()\n",
    "clf=GridSearchCV(knr,param_grid)\n",
    "clf.fit(x_train,y_train)\n",
    "\n",
    "print(clf.best_params_)"
   ]
  },
  {
   "cell_type": "code",
   "execution_count": 193,
   "id": "3b8643b7",
   "metadata": {},
   "outputs": [
    {
     "name": "stdout",
     "output_type": "stream",
     "text": [
      "R2 Score:  62.32234763894346\n",
      "Cross validation Score:  54.39717503179858\n"
     ]
    }
   ],
   "source": [
    "knr=KNeighborsRegressor(algorithm='brute',leaf_size=3,n_neighbors=9,p=1)\n",
    "knr.fit(x_train,y_train)\n",
    "knr.score(x_train,y_train)\n",
    "pred_knr=knr.predict(x_test)\n",
    "\n",
    "knrs=r2_score(y_test,pred_knr)\n",
    "print('R2 Score: ',knrs*100)\n",
    "\n",
    "knrcsv=cross_val_score(knr,x,y,cv=8)\n",
    "knr_cv_mean=knrcsv.mean()\n",
    "print('Cross validation Score: ',knr_cv_mean*100)"
   ]
  },
  {
   "cell_type": "markdown",
   "id": "19cbd90b",
   "metadata": {},
   "source": [
    "# SVR model:"
   ]
  },
  {
   "cell_type": "code",
   "execution_count": 194,
   "id": "7f23b8ec",
   "metadata": {},
   "outputs": [
    {
     "name": "stdout",
     "output_type": "stream",
     "text": [
      "{'gamma': 'scale', 'kernel': 'linear'}\n"
     ]
    }
   ],
   "source": [
    "from sklearn.svm import SVR\n",
    "parameters={'kernel':['linear','poly', 'rbf'],'gamma':['scale', 'auto']}\n",
    "svr=SVR()\n",
    "clf1=GridSearchCV(svr,parameters)\n",
    "clf1.fit(x_train,y_train)\n",
    "\n",
    "print(clf1.best_params_)"
   ]
  },
  {
   "cell_type": "code",
   "execution_count": 196,
   "id": "f6aa1f78",
   "metadata": {},
   "outputs": [
    {
     "name": "stdout",
     "output_type": "stream",
     "text": [
      "R2 Score:  32.84326348876589\n",
      "Cross validation Score:  30.728755019352526\n"
     ]
    }
   ],
   "source": [
    "svr=SVR(kernel='linear',gamma='scale')\n",
    "svr.fit(x_train,y_train)\n",
    "svr.score(x_train,y_train)\n",
    "pred_rf=svr.predict(x_test)\n",
    "\n",
    "svrs=r2_score(y_test,pred_rf)\n",
    "print('R2 Score: ',svrs*100)\n",
    "\n",
    "svrcsv=cross_val_score(svr,x,y,cv=8)\n",
    "svr_cv_mean=svrcsv.mean()\n",
    "print('Cross validation Score: ',svr_cv_mean*100)"
   ]
  },
  {
   "cell_type": "markdown",
   "id": "fa789dc8",
   "metadata": {},
   "source": [
    "# Out of all model Kneighbors regressor is having R2 Score: 62.32234763894346 and Cross validation Score: 54.39717503179858 .So, this model is finalised and further saved."
   ]
  },
  {
   "cell_type": "markdown",
   "id": "edb68fd2",
   "metadata": {},
   "source": [
    "# Saving the trained model:"
   ]
  },
  {
   "cell_type": "code",
   "execution_count": 198,
   "id": "459fa54f",
   "metadata": {},
   "outputs": [],
   "source": [
    "import pickle\n",
    "filename='fprice.pkl'\n",
    "pickle.dump(knr,open(filename,'wb'))"
   ]
  },
  {
   "cell_type": "markdown",
   "id": "79883e48",
   "metadata": {},
   "source": [
    "# Conclusion:"
   ]
  },
  {
   "cell_type": "code",
   "execution_count": 199,
   "id": "ce16f9f5",
   "metadata": {},
   "outputs": [
    {
     "data": {
      "text/html": [
       "<div>\n",
       "<style scoped>\n",
       "    .dataframe tbody tr th:only-of-type {\n",
       "        vertical-align: middle;\n",
       "    }\n",
       "\n",
       "    .dataframe tbody tr th {\n",
       "        vertical-align: top;\n",
       "    }\n",
       "\n",
       "    .dataframe thead th {\n",
       "        text-align: right;\n",
       "    }\n",
       "</style>\n",
       "<table border=\"1\" class=\"dataframe\">\n",
       "  <thead>\n",
       "    <tr style=\"text-align: right;\">\n",
       "      <th></th>\n",
       "      <th>Original</th>\n",
       "      <th>Predicted</th>\n",
       "    </tr>\n",
       "  </thead>\n",
       "  <tbody>\n",
       "    <tr>\n",
       "      <th>0</th>\n",
       "      <td>8475.000000</td>\n",
       "      <td>10454.666667</td>\n",
       "    </tr>\n",
       "    <tr>\n",
       "      <th>1</th>\n",
       "      <td>9708.000000</td>\n",
       "      <td>9638.370605</td>\n",
       "    </tr>\n",
       "    <tr>\n",
       "      <th>2</th>\n",
       "      <td>5535.000000</td>\n",
       "      <td>6281.111111</td>\n",
       "    </tr>\n",
       "    <tr>\n",
       "      <th>3</th>\n",
       "      <td>9134.335447</td>\n",
       "      <td>8858.778482</td>\n",
       "    </tr>\n",
       "    <tr>\n",
       "      <th>4</th>\n",
       "      <td>7004.000000</td>\n",
       "      <td>6770.111111</td>\n",
       "    </tr>\n",
       "  </tbody>\n",
       "</table>\n",
       "</div>"
      ],
      "text/plain": [
       "      Original     Predicted\n",
       "0  8475.000000  10454.666667\n",
       "1  9708.000000   9638.370605\n",
       "2  5535.000000   6281.111111\n",
       "3  9134.335447   8858.778482\n",
       "4  7004.000000   6770.111111"
      ]
     },
     "execution_count": 199,
     "metadata": {},
     "output_type": "execute_result"
    }
   ],
   "source": [
    "import numpy as np\n",
    "a=np.array(y_test)\n",
    "predicted=np.array(knr.predict(x_test))\n",
    "df_com=pd.DataFrame({'Original':a,'Predicted':predicted},index=range(len(a)))\n",
    "df_com.head()"
   ]
  },
  {
   "cell_type": "code",
   "execution_count": null,
   "id": "e6bc3af7",
   "metadata": {},
   "outputs": [],
   "source": []
  }
 ],
 "metadata": {
  "kernelspec": {
   "display_name": "Python 3 (ipykernel)",
   "language": "python",
   "name": "python3"
  },
  "language_info": {
   "codemirror_mode": {
    "name": "ipython",
    "version": 3
   },
   "file_extension": ".py",
   "mimetype": "text/x-python",
   "name": "python",
   "nbconvert_exporter": "python",
   "pygments_lexer": "ipython3",
   "version": "3.9.12"
  }
 },
 "nbformat": 4,
 "nbformat_minor": 5
}
